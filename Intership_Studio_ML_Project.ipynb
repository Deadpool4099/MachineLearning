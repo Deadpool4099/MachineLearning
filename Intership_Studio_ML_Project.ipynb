{
  "nbformat": 4,
  "nbformat_minor": 0,
  "metadata": {
    "colab": {
      "name": "Intership_Studio_ML_Project.ipynb",
      "provenance": [],
      "collapsed_sections": [],
      "authorship_tag": "ABX9TyPw5qyrnOQxS2TKe0NsrWuC",
      "include_colab_link": true
    },
    "kernelspec": {
      "display_name": "Python 3",
      "name": "python3"
    }
  },
  "cells": [
    {
      "cell_type": "markdown",
      "metadata": {
        "id": "view-in-github",
        "colab_type": "text"
      },
      "source": [
        "<a href=\"https://colab.research.google.com/github/Deadpool4099/MachineLearning/blob/main/Intership_Studio_ML_Project.ipynb\" target=\"_parent\"><img src=\"https://colab.research.google.com/assets/colab-badge.svg\" alt=\"Open In Colab\"/></a>"
      ]
    },
    {
      "cell_type": "markdown",
      "metadata": {
        "id": "71vByq3Z0Smg"
      },
      "source": [
        "\r\n",
        "# **Adview Predictions Project in Python**"
      ]
    },
    {
      "cell_type": "code",
      "metadata": {
        "id": "IY6IUz7Fipop"
      },
      "source": [
        "import numpy as np\n",
        "import pandas as pd\n",
        "import matplotlib.pyplot as plt\n",
        "import seaborn as sns"
      ],
      "execution_count": null,
      "outputs": []
    },
    {
      "cell_type": "code",
      "metadata": {
        "id": "rDWkNz17jWWw"
      },
      "source": [
        "Data=pd.read_csv('train.csv')"
      ],
      "execution_count": null,
      "outputs": []
    },
    {
      "cell_type": "code",
      "metadata": {
        "colab": {
          "base_uri": "https://localhost:8080/",
          "height": 197
        },
        "id": "9-hhICv-615v",
        "outputId": "fcb9ea8f-b34e-41ba-a3f7-ca2989cda4b7"
      },
      "source": [
        "Data.head()"
      ],
      "execution_count": null,
      "outputs": [
        {
          "output_type": "execute_result",
          "data": {
            "text/html": [
              "<div>\n",
              "<style scoped>\n",
              "    .dataframe tbody tr th:only-of-type {\n",
              "        vertical-align: middle;\n",
              "    }\n",
              "\n",
              "    .dataframe tbody tr th {\n",
              "        vertical-align: top;\n",
              "    }\n",
              "\n",
              "    .dataframe thead th {\n",
              "        text-align: right;\n",
              "    }\n",
              "</style>\n",
              "<table border=\"1\" class=\"dataframe\">\n",
              "  <thead>\n",
              "    <tr style=\"text-align: right;\">\n",
              "      <th></th>\n",
              "      <th>vidid</th>\n",
              "      <th>adview</th>\n",
              "      <th>views</th>\n",
              "      <th>likes</th>\n",
              "      <th>dislikes</th>\n",
              "      <th>comment</th>\n",
              "      <th>published</th>\n",
              "      <th>duration</th>\n",
              "      <th>category</th>\n",
              "    </tr>\n",
              "  </thead>\n",
              "  <tbody>\n",
              "    <tr>\n",
              "      <th>0</th>\n",
              "      <td>VID_18655</td>\n",
              "      <td>40</td>\n",
              "      <td>1031602</td>\n",
              "      <td>8523</td>\n",
              "      <td>363</td>\n",
              "      <td>1095</td>\n",
              "      <td>2016-09-14</td>\n",
              "      <td>PT7M37S</td>\n",
              "      <td>F</td>\n",
              "    </tr>\n",
              "    <tr>\n",
              "      <th>1</th>\n",
              "      <td>VID_14135</td>\n",
              "      <td>2</td>\n",
              "      <td>1707</td>\n",
              "      <td>56</td>\n",
              "      <td>2</td>\n",
              "      <td>6</td>\n",
              "      <td>2016-10-01</td>\n",
              "      <td>PT9M30S</td>\n",
              "      <td>D</td>\n",
              "    </tr>\n",
              "    <tr>\n",
              "      <th>2</th>\n",
              "      <td>VID_2187</td>\n",
              "      <td>1</td>\n",
              "      <td>2023</td>\n",
              "      <td>25</td>\n",
              "      <td>0</td>\n",
              "      <td>2</td>\n",
              "      <td>2016-07-02</td>\n",
              "      <td>PT2M16S</td>\n",
              "      <td>C</td>\n",
              "    </tr>\n",
              "    <tr>\n",
              "      <th>3</th>\n",
              "      <td>VID_23096</td>\n",
              "      <td>6</td>\n",
              "      <td>620860</td>\n",
              "      <td>777</td>\n",
              "      <td>161</td>\n",
              "      <td>153</td>\n",
              "      <td>2016-07-27</td>\n",
              "      <td>PT4M22S</td>\n",
              "      <td>H</td>\n",
              "    </tr>\n",
              "    <tr>\n",
              "      <th>4</th>\n",
              "      <td>VID_10175</td>\n",
              "      <td>1</td>\n",
              "      <td>666</td>\n",
              "      <td>1</td>\n",
              "      <td>0</td>\n",
              "      <td>0</td>\n",
              "      <td>2016-06-29</td>\n",
              "      <td>PT31S</td>\n",
              "      <td>D</td>\n",
              "    </tr>\n",
              "  </tbody>\n",
              "</table>\n",
              "</div>"
            ],
            "text/plain": [
              "       vidid  adview    views likes  ... comment   published duration category\n",
              "0  VID_18655      40  1031602  8523  ...    1095  2016-09-14  PT7M37S        F\n",
              "1  VID_14135       2     1707    56  ...       6  2016-10-01  PT9M30S        D\n",
              "2   VID_2187       1     2023    25  ...       2  2016-07-02  PT2M16S        C\n",
              "3  VID_23096       6   620860   777  ...     153  2016-07-27  PT4M22S        H\n",
              "4  VID_10175       1      666     1  ...       0  2016-06-29    PT31S        D\n",
              "\n",
              "[5 rows x 9 columns]"
            ]
          },
          "metadata": {
            "tags": []
          },
          "execution_count": 3
        }
      ]
    },
    {
      "cell_type": "code",
      "metadata": {
        "colab": {
          "base_uri": "https://localhost:8080/"
        },
        "id": "eWWCWe3Tjsh7",
        "outputId": "7ea3af6b-41a3-4e9e-8999-12844b68eb12"
      },
      "source": [
        "Data.info()"
      ],
      "execution_count": null,
      "outputs": [
        {
          "output_type": "stream",
          "text": [
            "<class 'pandas.core.frame.DataFrame'>\n",
            "RangeIndex: 14999 entries, 0 to 14998\n",
            "Data columns (total 9 columns):\n",
            " #   Column     Non-Null Count  Dtype \n",
            "---  ------     --------------  ----- \n",
            " 0   vidid      14999 non-null  object\n",
            " 1   adview     14999 non-null  int64 \n",
            " 2   views      14999 non-null  object\n",
            " 3   likes      14999 non-null  object\n",
            " 4   dislikes   14999 non-null  object\n",
            " 5   comment    14999 non-null  object\n",
            " 6   published  14999 non-null  object\n",
            " 7   duration   14999 non-null  object\n",
            " 8   category   14999 non-null  object\n",
            "dtypes: int64(1), object(8)\n",
            "memory usage: 1.0+ MB\n"
          ],
          "name": "stdout"
        }
      ]
    },
    {
      "cell_type": "code",
      "metadata": {
        "colab": {
          "base_uri": "https://localhost:8080/",
          "height": 286
        },
        "id": "iSmnbbbylBex",
        "outputId": "1a7a566f-5c0a-44bd-b052-ee0e98817a9f"
      },
      "source": [
        "Data.describe()"
      ],
      "execution_count": null,
      "outputs": [
        {
          "output_type": "execute_result",
          "data": {
            "text/html": [
              "<div>\n",
              "<style scoped>\n",
              "    .dataframe tbody tr th:only-of-type {\n",
              "        vertical-align: middle;\n",
              "    }\n",
              "\n",
              "    .dataframe tbody tr th {\n",
              "        vertical-align: top;\n",
              "    }\n",
              "\n",
              "    .dataframe thead th {\n",
              "        text-align: right;\n",
              "    }\n",
              "</style>\n",
              "<table border=\"1\" class=\"dataframe\">\n",
              "  <thead>\n",
              "    <tr style=\"text-align: right;\">\n",
              "      <th></th>\n",
              "      <th>adview</th>\n",
              "    </tr>\n",
              "  </thead>\n",
              "  <tbody>\n",
              "    <tr>\n",
              "      <th>count</th>\n",
              "      <td>1.499900e+04</td>\n",
              "    </tr>\n",
              "    <tr>\n",
              "      <th>mean</th>\n",
              "      <td>2.107791e+03</td>\n",
              "    </tr>\n",
              "    <tr>\n",
              "      <th>std</th>\n",
              "      <td>5.237711e+04</td>\n",
              "    </tr>\n",
              "    <tr>\n",
              "      <th>min</th>\n",
              "      <td>1.000000e+00</td>\n",
              "    </tr>\n",
              "    <tr>\n",
              "      <th>25%</th>\n",
              "      <td>1.000000e+00</td>\n",
              "    </tr>\n",
              "    <tr>\n",
              "      <th>50%</th>\n",
              "      <td>2.000000e+00</td>\n",
              "    </tr>\n",
              "    <tr>\n",
              "      <th>75%</th>\n",
              "      <td>6.000000e+00</td>\n",
              "    </tr>\n",
              "    <tr>\n",
              "      <th>max</th>\n",
              "      <td>5.429665e+06</td>\n",
              "    </tr>\n",
              "  </tbody>\n",
              "</table>\n",
              "</div>"
            ],
            "text/plain": [
              "             adview\n",
              "count  1.499900e+04\n",
              "mean   2.107791e+03\n",
              "std    5.237711e+04\n",
              "min    1.000000e+00\n",
              "25%    1.000000e+00\n",
              "50%    2.000000e+00\n",
              "75%    6.000000e+00\n",
              "max    5.429665e+06"
            ]
          },
          "metadata": {
            "tags": []
          },
          "execution_count": 5
        }
      ]
    },
    {
      "cell_type": "code",
      "metadata": {
        "colab": {
          "base_uri": "https://localhost:8080/"
        },
        "id": "PnKJNwyWCV8Z",
        "outputId": "f6672c2a-2665-448c-eb23-9f8d9e43ce36"
      },
      "source": [
        "Data.shape"
      ],
      "execution_count": null,
      "outputs": [
        {
          "output_type": "execute_result",
          "data": {
            "text/plain": [
              "(14999, 9)"
            ]
          },
          "metadata": {
            "tags": []
          },
          "execution_count": 6
        }
      ]
    },
    {
      "cell_type": "code",
      "metadata": {
        "id": "LK0IIwahxwFj"
      },
      "source": [
        "def func(X):\n",
        "  Y=X[2:]\n",
        "  h=''\n",
        "  m=''\n",
        "  s=''\n",
        "  mm=''\n",
        "  P=['H','M','S']\n",
        "  for i in Y:\n",
        "    if i not in P:\n",
        "      mm+=i\n",
        "    else:\n",
        "      if(i=='H'):\n",
        "        h=mm\n",
        "        mm=''\n",
        "      elif(i=='M'):\n",
        "        m=mm\n",
        "        mm=''\n",
        "      else:\n",
        "        s=mm\n",
        "        mm=''\n",
        "  if(h==''):\n",
        "    h='00'\n",
        "  if(m==''):\n",
        "    m='00'\n",
        "  if(s==''):\n",
        "    s='00'\n",
        "  bp=h+':'+m+':'+s\n",
        "  return bp\n",
        "\n",
        "\n",
        "\n",
        "\n",
        "  \n"
      ],
      "execution_count": null,
      "outputs": []
    },
    {
      "cell_type": "code",
      "metadata": {
        "id": "1K0BBycosBW0"
      },
      "source": [
        "mp=Data['duration']\n",
        "time=mp.apply(func)"
      ],
      "execution_count": null,
      "outputs": []
    },
    {
      "cell_type": "code",
      "metadata": {
        "colab": {
          "base_uri": "https://localhost:8080/",
          "height": 197
        },
        "id": "st-_aSsZr5S9",
        "outputId": "2d26f08d-9608-461e-f53a-13805eaca6b8"
      },
      "source": [
        "\n",
        "def sec(sec):\n",
        "  h,m,s=sec.split(':')\n",
        "  a=int(h)*3600+int(m)*60+int(s)*1\n",
        "  return a\n",
        "\n",
        "time1=time.apply(sec)\n",
        "\n",
        "Data['duration']=time1\n",
        "Data.head()\n"
      ],
      "execution_count": null,
      "outputs": [
        {
          "output_type": "execute_result",
          "data": {
            "text/html": [
              "<div>\n",
              "<style scoped>\n",
              "    .dataframe tbody tr th:only-of-type {\n",
              "        vertical-align: middle;\n",
              "    }\n",
              "\n",
              "    .dataframe tbody tr th {\n",
              "        vertical-align: top;\n",
              "    }\n",
              "\n",
              "    .dataframe thead th {\n",
              "        text-align: right;\n",
              "    }\n",
              "</style>\n",
              "<table border=\"1\" class=\"dataframe\">\n",
              "  <thead>\n",
              "    <tr style=\"text-align: right;\">\n",
              "      <th></th>\n",
              "      <th>vidid</th>\n",
              "      <th>adview</th>\n",
              "      <th>views</th>\n",
              "      <th>likes</th>\n",
              "      <th>dislikes</th>\n",
              "      <th>comment</th>\n",
              "      <th>published</th>\n",
              "      <th>duration</th>\n",
              "      <th>category</th>\n",
              "    </tr>\n",
              "  </thead>\n",
              "  <tbody>\n",
              "    <tr>\n",
              "      <th>0</th>\n",
              "      <td>VID_18655</td>\n",
              "      <td>40</td>\n",
              "      <td>1031602</td>\n",
              "      <td>8523</td>\n",
              "      <td>363</td>\n",
              "      <td>1095</td>\n",
              "      <td>2016-09-14</td>\n",
              "      <td>457</td>\n",
              "      <td>F</td>\n",
              "    </tr>\n",
              "    <tr>\n",
              "      <th>1</th>\n",
              "      <td>VID_14135</td>\n",
              "      <td>2</td>\n",
              "      <td>1707</td>\n",
              "      <td>56</td>\n",
              "      <td>2</td>\n",
              "      <td>6</td>\n",
              "      <td>2016-10-01</td>\n",
              "      <td>570</td>\n",
              "      <td>D</td>\n",
              "    </tr>\n",
              "    <tr>\n",
              "      <th>2</th>\n",
              "      <td>VID_2187</td>\n",
              "      <td>1</td>\n",
              "      <td>2023</td>\n",
              "      <td>25</td>\n",
              "      <td>0</td>\n",
              "      <td>2</td>\n",
              "      <td>2016-07-02</td>\n",
              "      <td>136</td>\n",
              "      <td>C</td>\n",
              "    </tr>\n",
              "    <tr>\n",
              "      <th>3</th>\n",
              "      <td>VID_23096</td>\n",
              "      <td>6</td>\n",
              "      <td>620860</td>\n",
              "      <td>777</td>\n",
              "      <td>161</td>\n",
              "      <td>153</td>\n",
              "      <td>2016-07-27</td>\n",
              "      <td>262</td>\n",
              "      <td>H</td>\n",
              "    </tr>\n",
              "    <tr>\n",
              "      <th>4</th>\n",
              "      <td>VID_10175</td>\n",
              "      <td>1</td>\n",
              "      <td>666</td>\n",
              "      <td>1</td>\n",
              "      <td>0</td>\n",
              "      <td>0</td>\n",
              "      <td>2016-06-29</td>\n",
              "      <td>31</td>\n",
              "      <td>D</td>\n",
              "    </tr>\n",
              "  </tbody>\n",
              "</table>\n",
              "</div>"
            ],
            "text/plain": [
              "       vidid  adview    views likes  ... comment   published duration  category\n",
              "0  VID_18655      40  1031602  8523  ...    1095  2016-09-14      457         F\n",
              "1  VID_14135       2     1707    56  ...       6  2016-10-01      570         D\n",
              "2   VID_2187       1     2023    25  ...       2  2016-07-02      136         C\n",
              "3  VID_23096       6   620860   777  ...     153  2016-07-27      262         H\n",
              "4  VID_10175       1      666     1  ...       0  2016-06-29       31         D\n",
              "\n",
              "[5 rows x 9 columns]"
            ]
          },
          "metadata": {
            "tags": []
          },
          "execution_count": 9
        }
      ]
    },
    {
      "cell_type": "code",
      "metadata": {
        "id": "6AMelS0XEsVl"
      },
      "source": [
        "Data=Data[Data.views!='F']\n",
        "Data=Data[Data.likes!='F']\n",
        "Data=Data[Data.dislikes!='F']\n",
        "Data=Data[Data.comment!='F']"
      ],
      "execution_count": null,
      "outputs": []
    },
    {
      "cell_type": "code",
      "metadata": {
        "colab": {
          "base_uri": "https://localhost:8080/",
          "height": 346
        },
        "id": "2_xSJm5nFPVK",
        "outputId": "ec62cae6-ca88-4f3a-d772-2e4ba89ea51e"
      },
      "source": [
        "Data.tail(10)"
      ],
      "execution_count": null,
      "outputs": [
        {
          "output_type": "execute_result",
          "data": {
            "text/html": [
              "<div>\n",
              "<style scoped>\n",
              "    .dataframe tbody tr th:only-of-type {\n",
              "        vertical-align: middle;\n",
              "    }\n",
              "\n",
              "    .dataframe tbody tr th {\n",
              "        vertical-align: top;\n",
              "    }\n",
              "\n",
              "    .dataframe thead th {\n",
              "        text-align: right;\n",
              "    }\n",
              "</style>\n",
              "<table border=\"1\" class=\"dataframe\">\n",
              "  <thead>\n",
              "    <tr style=\"text-align: right;\">\n",
              "      <th></th>\n",
              "      <th>vidid</th>\n",
              "      <th>adview</th>\n",
              "      <th>views</th>\n",
              "      <th>likes</th>\n",
              "      <th>dislikes</th>\n",
              "      <th>comment</th>\n",
              "      <th>published</th>\n",
              "      <th>duration</th>\n",
              "      <th>category</th>\n",
              "    </tr>\n",
              "  </thead>\n",
              "  <tbody>\n",
              "    <tr>\n",
              "      <th>14987</th>\n",
              "      <td>VID_18084</td>\n",
              "      <td>1</td>\n",
              "      <td>303879</td>\n",
              "      <td>481</td>\n",
              "      <td>51</td>\n",
              "      <td>76</td>\n",
              "      <td>2014-06-12</td>\n",
              "      <td>137</td>\n",
              "      <td>F</td>\n",
              "    </tr>\n",
              "    <tr>\n",
              "      <th>14988</th>\n",
              "      <td>VID_22836</td>\n",
              "      <td>2</td>\n",
              "      <td>214596</td>\n",
              "      <td>1431</td>\n",
              "      <td>44</td>\n",
              "      <td>67</td>\n",
              "      <td>2015-08-06</td>\n",
              "      <td>212</td>\n",
              "      <td>G</td>\n",
              "    </tr>\n",
              "    <tr>\n",
              "      <th>14989</th>\n",
              "      <td>VID_20638</td>\n",
              "      <td>22</td>\n",
              "      <td>1204587</td>\n",
              "      <td>10284</td>\n",
              "      <td>379</td>\n",
              "      <td>2016</td>\n",
              "      <td>2013-04-10</td>\n",
              "      <td>36019</td>\n",
              "      <td>G</td>\n",
              "    </tr>\n",
              "    <tr>\n",
              "      <th>14992</th>\n",
              "      <td>VID_11653</td>\n",
              "      <td>1</td>\n",
              "      <td>78021</td>\n",
              "      <td>422</td>\n",
              "      <td>19</td>\n",
              "      <td>14</td>\n",
              "      <td>2016-08-12</td>\n",
              "      <td>177</td>\n",
              "      <td>D</td>\n",
              "    </tr>\n",
              "    <tr>\n",
              "      <th>14993</th>\n",
              "      <td>VID_13909</td>\n",
              "      <td>11</td>\n",
              "      <td>96816</td>\n",
              "      <td>122</td>\n",
              "      <td>9</td>\n",
              "      <td>11</td>\n",
              "      <td>2014-01-30</td>\n",
              "      <td>126</td>\n",
              "      <td>D</td>\n",
              "    </tr>\n",
              "    <tr>\n",
              "      <th>14994</th>\n",
              "      <td>VID_31</td>\n",
              "      <td>2</td>\n",
              "      <td>525949</td>\n",
              "      <td>1137</td>\n",
              "      <td>83</td>\n",
              "      <td>86</td>\n",
              "      <td>2015-05-18</td>\n",
              "      <td>370</td>\n",
              "      <td>A</td>\n",
              "    </tr>\n",
              "    <tr>\n",
              "      <th>14995</th>\n",
              "      <td>VID_5861</td>\n",
              "      <td>1</td>\n",
              "      <td>665673</td>\n",
              "      <td>3849</td>\n",
              "      <td>156</td>\n",
              "      <td>569</td>\n",
              "      <td>2015-10-20</td>\n",
              "      <td>236</td>\n",
              "      <td>D</td>\n",
              "    </tr>\n",
              "    <tr>\n",
              "      <th>14996</th>\n",
              "      <td>VID_805</td>\n",
              "      <td>4</td>\n",
              "      <td>3479</td>\n",
              "      <td>16</td>\n",
              "      <td>1</td>\n",
              "      <td>1</td>\n",
              "      <td>2013-08-23</td>\n",
              "      <td>193</td>\n",
              "      <td>B</td>\n",
              "    </tr>\n",
              "    <tr>\n",
              "      <th>14997</th>\n",
              "      <td>VID_19843</td>\n",
              "      <td>1</td>\n",
              "      <td>963</td>\n",
              "      <td>0</td>\n",
              "      <td>0</td>\n",
              "      <td>0</td>\n",
              "      <td>2010-10-02</td>\n",
              "      <td>26</td>\n",
              "      <td>G</td>\n",
              "    </tr>\n",
              "    <tr>\n",
              "      <th>14998</th>\n",
              "      <td>VID_8534</td>\n",
              "      <td>1</td>\n",
              "      <td>15212</td>\n",
              "      <td>22</td>\n",
              "      <td>5</td>\n",
              "      <td>4</td>\n",
              "      <td>2016-02-19</td>\n",
              "      <td>61</td>\n",
              "      <td>D</td>\n",
              "    </tr>\n",
              "  </tbody>\n",
              "</table>\n",
              "</div>"
            ],
            "text/plain": [
              "           vidid  adview    views  likes  ... comment   published duration  category\n",
              "14987  VID_18084       1   303879    481  ...      76  2014-06-12      137         F\n",
              "14988  VID_22836       2   214596   1431  ...      67  2015-08-06      212         G\n",
              "14989  VID_20638      22  1204587  10284  ...    2016  2013-04-10    36019         G\n",
              "14992  VID_11653       1    78021    422  ...      14  2016-08-12      177         D\n",
              "14993  VID_13909      11    96816    122  ...      11  2014-01-30      126         D\n",
              "14994     VID_31       2   525949   1137  ...      86  2015-05-18      370         A\n",
              "14995   VID_5861       1   665673   3849  ...     569  2015-10-20      236         D\n",
              "14996    VID_805       4     3479     16  ...       1  2013-08-23      193         B\n",
              "14997  VID_19843       1      963      0  ...       0  2010-10-02       26         G\n",
              "14998   VID_8534       1    15212     22  ...       4  2016-02-19       61         D\n",
              "\n",
              "[10 rows x 9 columns]"
            ]
          },
          "metadata": {
            "tags": []
          },
          "execution_count": 11
        }
      ]
    },
    {
      "cell_type": "code",
      "metadata": {
        "colab": {
          "base_uri": "https://localhost:8080/"
        },
        "id": "kpeLTwDMFlfl",
        "outputId": "af6f49b4-14cc-4e86-f25d-f1a7ad7c33a2"
      },
      "source": [
        "Data.shape"
      ],
      "execution_count": null,
      "outputs": [
        {
          "output_type": "execute_result",
          "data": {
            "text/plain": [
              "(14637, 9)"
            ]
          },
          "metadata": {
            "tags": []
          },
          "execution_count": 12
        }
      ]
    },
    {
      "cell_type": "code",
      "metadata": {
        "id": "WdeQuu4hF4uk"
      },
      "source": [
        "Data['views']=pd.to_numeric(Data['views'])\n",
        "Data['likes']=pd.to_numeric(Data['likes'])\n",
        "Data['dislikes']=pd.to_numeric(Data['dislikes'])\n",
        "Data['comment']=pd.to_numeric(Data['comment'])"
      ],
      "execution_count": null,
      "outputs": []
    },
    {
      "cell_type": "code",
      "metadata": {
        "colab": {
          "base_uri": "https://localhost:8080/"
        },
        "id": "dB3iFoYsGgwH",
        "outputId": "1aca3498-6272-4ebd-fa35-c5f7aede4c08"
      },
      "source": [
        "Data.info()"
      ],
      "execution_count": null,
      "outputs": [
        {
          "output_type": "stream",
          "text": [
            "<class 'pandas.core.frame.DataFrame'>\n",
            "Int64Index: 14637 entries, 0 to 14998\n",
            "Data columns (total 9 columns):\n",
            " #   Column     Non-Null Count  Dtype \n",
            "---  ------     --------------  ----- \n",
            " 0   vidid      14637 non-null  object\n",
            " 1   adview     14637 non-null  int64 \n",
            " 2   views      14637 non-null  int64 \n",
            " 3   likes      14637 non-null  int64 \n",
            " 4   dislikes   14637 non-null  int64 \n",
            " 5   comment    14637 non-null  int64 \n",
            " 6   published  14637 non-null  object\n",
            " 7   duration   14637 non-null  int64 \n",
            " 8   category   14637 non-null  object\n",
            "dtypes: int64(6), object(3)\n",
            "memory usage: 1.1+ MB\n"
          ],
          "name": "stdout"
        }
      ]
    },
    {
      "cell_type": "code",
      "metadata": {
        "colab": {
          "base_uri": "https://localhost:8080/",
          "height": 197
        },
        "id": "Nb3mHuLYBX_e",
        "outputId": "6aefc2a9-24df-4e42-cf83-ed64eb556b19"
      },
      "source": [
        "category={'A': 1,'B':2,'C':3,'D':4,'E':5,'F':6,'G':7,'H':8}\n",
        "Data[\"category\"]=Data[\"category\"].map(category)\n",
        "Data.head()"
      ],
      "execution_count": null,
      "outputs": [
        {
          "output_type": "execute_result",
          "data": {
            "text/html": [
              "<div>\n",
              "<style scoped>\n",
              "    .dataframe tbody tr th:only-of-type {\n",
              "        vertical-align: middle;\n",
              "    }\n",
              "\n",
              "    .dataframe tbody tr th {\n",
              "        vertical-align: top;\n",
              "    }\n",
              "\n",
              "    .dataframe thead th {\n",
              "        text-align: right;\n",
              "    }\n",
              "</style>\n",
              "<table border=\"1\" class=\"dataframe\">\n",
              "  <thead>\n",
              "    <tr style=\"text-align: right;\">\n",
              "      <th></th>\n",
              "      <th>vidid</th>\n",
              "      <th>adview</th>\n",
              "      <th>views</th>\n",
              "      <th>likes</th>\n",
              "      <th>dislikes</th>\n",
              "      <th>comment</th>\n",
              "      <th>published</th>\n",
              "      <th>duration</th>\n",
              "      <th>category</th>\n",
              "    </tr>\n",
              "  </thead>\n",
              "  <tbody>\n",
              "    <tr>\n",
              "      <th>0</th>\n",
              "      <td>VID_18655</td>\n",
              "      <td>40</td>\n",
              "      <td>1031602</td>\n",
              "      <td>8523</td>\n",
              "      <td>363</td>\n",
              "      <td>1095</td>\n",
              "      <td>2016-09-14</td>\n",
              "      <td>457</td>\n",
              "      <td>6</td>\n",
              "    </tr>\n",
              "    <tr>\n",
              "      <th>1</th>\n",
              "      <td>VID_14135</td>\n",
              "      <td>2</td>\n",
              "      <td>1707</td>\n",
              "      <td>56</td>\n",
              "      <td>2</td>\n",
              "      <td>6</td>\n",
              "      <td>2016-10-01</td>\n",
              "      <td>570</td>\n",
              "      <td>4</td>\n",
              "    </tr>\n",
              "    <tr>\n",
              "      <th>2</th>\n",
              "      <td>VID_2187</td>\n",
              "      <td>1</td>\n",
              "      <td>2023</td>\n",
              "      <td>25</td>\n",
              "      <td>0</td>\n",
              "      <td>2</td>\n",
              "      <td>2016-07-02</td>\n",
              "      <td>136</td>\n",
              "      <td>3</td>\n",
              "    </tr>\n",
              "    <tr>\n",
              "      <th>3</th>\n",
              "      <td>VID_23096</td>\n",
              "      <td>6</td>\n",
              "      <td>620860</td>\n",
              "      <td>777</td>\n",
              "      <td>161</td>\n",
              "      <td>153</td>\n",
              "      <td>2016-07-27</td>\n",
              "      <td>262</td>\n",
              "      <td>8</td>\n",
              "    </tr>\n",
              "    <tr>\n",
              "      <th>4</th>\n",
              "      <td>VID_10175</td>\n",
              "      <td>1</td>\n",
              "      <td>666</td>\n",
              "      <td>1</td>\n",
              "      <td>0</td>\n",
              "      <td>0</td>\n",
              "      <td>2016-06-29</td>\n",
              "      <td>31</td>\n",
              "      <td>4</td>\n",
              "    </tr>\n",
              "  </tbody>\n",
              "</table>\n",
              "</div>"
            ],
            "text/plain": [
              "       vidid  adview    views  likes  ...  comment   published duration  category\n",
              "0  VID_18655      40  1031602   8523  ...     1095  2016-09-14      457         6\n",
              "1  VID_14135       2     1707     56  ...        6  2016-10-01      570         4\n",
              "2   VID_2187       1     2023     25  ...        2  2016-07-02      136         3\n",
              "3  VID_23096       6   620860    777  ...      153  2016-07-27      262         8\n",
              "4  VID_10175       1      666      1  ...        0  2016-06-29       31         4\n",
              "\n",
              "[5 rows x 9 columns]"
            ]
          },
          "metadata": {
            "tags": []
          },
          "execution_count": 15
        }
      ]
    },
    {
      "cell_type": "code",
      "metadata": {
        "colab": {
          "base_uri": "https://localhost:8080/",
          "height": 197
        },
        "id": "Fub0pUgCGxSv",
        "outputId": "01e1f0f4-6eeb-4f94-9472-bafdfe5008e6"
      },
      "source": [
        "from sklearn.preprocessing import LabelEncoder\n",
        "Data['published']=LabelEncoder().fit_transform(Data['published'])\n",
        "Data['vidid']=LabelEncoder().fit_transform(Data['vidid'])\n",
        "Data.head()"
      ],
      "execution_count": null,
      "outputs": [
        {
          "output_type": "execute_result",
          "data": {
            "text/html": [
              "<div>\n",
              "<style scoped>\n",
              "    .dataframe tbody tr th:only-of-type {\n",
              "        vertical-align: middle;\n",
              "    }\n",
              "\n",
              "    .dataframe tbody tr th {\n",
              "        vertical-align: top;\n",
              "    }\n",
              "\n",
              "    .dataframe thead th {\n",
              "        text-align: right;\n",
              "    }\n",
              "</style>\n",
              "<table border=\"1\" class=\"dataframe\">\n",
              "  <thead>\n",
              "    <tr style=\"text-align: right;\">\n",
              "      <th></th>\n",
              "      <th>vidid</th>\n",
              "      <th>adview</th>\n",
              "      <th>views</th>\n",
              "      <th>likes</th>\n",
              "      <th>dislikes</th>\n",
              "      <th>comment</th>\n",
              "      <th>published</th>\n",
              "      <th>duration</th>\n",
              "      <th>category</th>\n",
              "    </tr>\n",
              "  </thead>\n",
              "  <tbody>\n",
              "    <tr>\n",
              "      <th>0</th>\n",
              "      <td>5912</td>\n",
              "      <td>40</td>\n",
              "      <td>1031602</td>\n",
              "      <td>8523</td>\n",
              "      <td>363</td>\n",
              "      <td>1095</td>\n",
              "      <td>2168</td>\n",
              "      <td>457</td>\n",
              "      <td>6</td>\n",
              "    </tr>\n",
              "    <tr>\n",
              "      <th>1</th>\n",
              "      <td>2741</td>\n",
              "      <td>2</td>\n",
              "      <td>1707</td>\n",
              "      <td>56</td>\n",
              "      <td>2</td>\n",
              "      <td>6</td>\n",
              "      <td>2185</td>\n",
              "      <td>570</td>\n",
              "      <td>4</td>\n",
              "    </tr>\n",
              "    <tr>\n",
              "      <th>2</th>\n",
              "      <td>8138</td>\n",
              "      <td>1</td>\n",
              "      <td>2023</td>\n",
              "      <td>25</td>\n",
              "      <td>0</td>\n",
              "      <td>2</td>\n",
              "      <td>2094</td>\n",
              "      <td>136</td>\n",
              "      <td>3</td>\n",
              "    </tr>\n",
              "    <tr>\n",
              "      <th>3</th>\n",
              "      <td>9005</td>\n",
              "      <td>6</td>\n",
              "      <td>620860</td>\n",
              "      <td>777</td>\n",
              "      <td>161</td>\n",
              "      <td>153</td>\n",
              "      <td>2119</td>\n",
              "      <td>262</td>\n",
              "      <td>8</td>\n",
              "    </tr>\n",
              "    <tr>\n",
              "      <th>4</th>\n",
              "      <td>122</td>\n",
              "      <td>1</td>\n",
              "      <td>666</td>\n",
              "      <td>1</td>\n",
              "      <td>0</td>\n",
              "      <td>0</td>\n",
              "      <td>2091</td>\n",
              "      <td>31</td>\n",
              "      <td>4</td>\n",
              "    </tr>\n",
              "  </tbody>\n",
              "</table>\n",
              "</div>"
            ],
            "text/plain": [
              "   vidid  adview    views  likes  ...  comment  published  duration  category\n",
              "0   5912      40  1031602   8523  ...     1095       2168       457         6\n",
              "1   2741       2     1707     56  ...        6       2185       570         4\n",
              "2   8138       1     2023     25  ...        2       2094       136         3\n",
              "3   9005       6   620860    777  ...      153       2119       262         8\n",
              "4    122       1      666      1  ...        0       2091        31         4\n",
              "\n",
              "[5 rows x 9 columns]"
            ]
          },
          "metadata": {
            "tags": []
          },
          "execution_count": 16
        }
      ]
    },
    {
      "cell_type": "code",
      "metadata": {
        "colab": {
          "base_uri": "https://localhost:8080/",
          "height": 557
        },
        "id": "HOcE4zQiIUjP",
        "outputId": "cdf0d6d1-3e7a-4c97-bac0-a479a5f25058"
      },
      "source": [
        "cor_matrix=Data.corr().round(4)\n",
        "plt.subplots(figsize=(12,9))\n",
        "sns.heatmap(data=cor_matrix,annot=True)"
      ],
      "execution_count": null,
      "outputs": [
        {
          "output_type": "execute_result",
          "data": {
            "text/plain": [
              "<matplotlib.axes._subplots.AxesSubplot at 0x7fc5846840f0>"
            ]
          },
          "metadata": {
            "tags": []
          },
          "execution_count": 17
        },
        {
          "output_type": "display_data",
          "data": {
            "image/png": "[encoded data removed]",
            "text/plain": [
              "<Figure size 864x648 with 2 Axes>"
            ]
          },
          "metadata": {
            "tags": [],
            "needs_background": "light"
          }
        }
      ]
    },
    {
      "cell_type": "code",
      "metadata": {
        "colab": {
          "base_uri": "https://localhost:8080/",
          "height": 276
        },
        "id": "jjRceij8vYlq",
        "outputId": "9bdd3956-755d-40a4-f15d-a469178382aa"
      },
      "source": [
        "plt.plot(Data['adview'])\n",
        "plt.show()"
      ],
      "execution_count": null,
      "outputs": [
        {
          "output_type": "display_data",
          "data": {
            "image/png": "[encoded data removed]",
            "text/plain": [
              "<Figure size 432x288 with 1 Axes>"
            ]
          },
          "metadata": {
            "tags": [],
            "needs_background": "light"
          }
        }
      ]
    },
    {
      "cell_type": "code",
      "metadata": {
        "colab": {
          "base_uri": "https://localhost:8080/"
        },
        "id": "Diw84Un51HHe",
        "outputId": "1fb12d3d-ef42-45ad-f649-c47b7f300405"
      },
      "source": [
        "a=max(Data['adview'])\n",
        "print(a)"
      ],
      "execution_count": null,
      "outputs": [
        {
          "output_type": "stream",
          "text": [
            "5429665\n"
          ],
          "name": "stdout"
        }
      ]
    },
    {
      "cell_type": "code",
      "metadata": {
        "id": "xXPEHmkb0NkI"
      },
      "source": [
        "Data=Data[Data['adview']<3000000]"
      ],
      "execution_count": null,
      "outputs": []
    },
    {
      "cell_type": "code",
      "metadata": {
        "colab": {
          "base_uri": "https://localhost:8080/"
        },
        "id": "-eBrhQpu1ccj",
        "outputId": "4d36881a-a356-4e55-9a1e-4712d53a12da"
      },
      "source": [
        "Data.shape"
      ],
      "execution_count": null,
      "outputs": [
        {
          "output_type": "execute_result",
          "data": {
            "text/plain": [
              "(14636, 9)"
            ]
          },
          "metadata": {
            "tags": []
          },
          "execution_count": 21
        }
      ]
    },
    {
      "cell_type": "code",
      "metadata": {
        "colab": {
          "base_uri": "https://localhost:8080/"
        },
        "id": "yUx8aUnm4FdB",
        "outputId": "5a01ff12-4449-440b-ec64-3d69efb26e37"
      },
      "source": [
        "x=Data[['views','likes','published']].values\n",
        "y=Data['adview'].values\n",
        "x,y"
      ],
      "execution_count": null,
      "outputs": [
        {
          "output_type": "execute_result",
          "data": {
            "text/plain": [
              "(array([[1031602,    8523,    2168],\n",
              "        [   1707,      56,    2185],\n",
              "        [   2023,      25,    2094],\n",
              "        ...,\n",
              "        [   3479,      16,    1053],\n",
              "        [    963,       0,     222],\n",
              "        [  15212,      22,    1960]]), array([40,  2,  1, ...,  4,  1,  1]))"
            ]
          },
          "metadata": {
            "tags": []
          },
          "execution_count": 22
        }
      ]
    },
    {
      "cell_type": "code",
      "metadata": {
        "id": "dEK8SyhEhQpm"
      },
      "source": [
        "from sklearn.preprocessing import MinMaxScaler\n",
        "scalerx=MinMaxScaler()\n",
        "x=scalerx.fit_transform(x)"
      ],
      "execution_count": null,
      "outputs": []
    },
    {
      "cell_type": "code",
      "metadata": {
        "id": "CNLaplRn6kuN"
      },
      "source": [
        "from sklearn.model_selection import train_test_split\n",
        "x_train,x_test,y_train,y_test=train_test_split(x,y,test_size=0.2,random_state=0)"
      ],
      "execution_count": null,
      "outputs": []
    },
    {
      "cell_type": "code",
      "metadata": {
        "colab": {
          "base_uri": "https://localhost:8080/"
        },
        "id": "RaE1vwG-Aogm",
        "outputId": "1d8cac3c-1f31-42f6-9a81-b10e1b68cf2d"
      },
      "source": [
        "x_train.shape"
      ],
      "execution_count": null,
      "outputs": [
        {
          "output_type": "execute_result",
          "data": {
            "text/plain": [
              "(11708, 3)"
            ]
          },
          "metadata": {
            "tags": []
          },
          "execution_count": 25
        }
      ]
    },
    {
      "cell_type": "code",
      "metadata": {
        "colab": {
          "base_uri": "https://localhost:8080/"
        },
        "id": "4DFKxtMLCUa_",
        "outputId": "32fc01df-7d0d-4d38-822b-fe7ff783edb8"
      },
      "source": [
        "x_train.mean()"
      ],
      "execution_count": null,
      "outputs": [
        {
          "output_type": "execute_result",
          "data": {
            "text/plain": [
              "0.22133679869856437"
            ]
          },
          "metadata": {
            "tags": []
          },
          "execution_count": 26
        }
      ]
    },
    {
      "cell_type": "code",
      "metadata": {
        "id": "-MwmTsF06nan"
      },
      "source": [
        "from sklearn import metrics\n",
        "def print_error(x_test,y_test,model_name):\n",
        "  y_pred=model_name.predict(x_test)\n",
        "  print('Mean Absolute Error:',metrics.mean_absolute_error(y_test,y_pred))\n",
        "  print('Mean Squared Error:',metrics.mean_squared_error(y_test,y_pred))\n",
        "  print('Root Mean Squared Error:',np.sqrt(metrics.mean_squared_error(y_test,y_pred))) "
      ],
      "execution_count": null,
      "outputs": []
    },
    {
      "cell_type": "code",
      "metadata": {
        "id": "3YS69ywDCauz",
        "colab": {
          "base_uri": "https://localhost:8080/"
        },
        "outputId": "f9bf6f9d-5904-4393-b1dc-ee7447e12c02"
      },
      "source": [
        "from sklearn.linear_model import LinearRegression\n",
        "linear_regression=LinearRegression()\n",
        "linear_regression.fit(x_train,y_train)\n",
        "print_error(x_test,y_test,linear_regression)"
      ],
      "execution_count": null,
      "outputs": [
        {
          "output_type": "stream",
          "text": [
            "Mean Absolute Error: 3916.928991732439\n",
            "Mean Squared Error: 1370085228.2710772\n",
            "Root Mean Squared Error: 37014.66234171369\n"
          ],
          "name": "stdout"
        }
      ]
    },
    {
      "cell_type": "code",
      "metadata": {
        "colab": {
          "base_uri": "https://localhost:8080/"
        },
        "id": "k5eTw9Ntqh9v",
        "outputId": "5b08f960-dddb-435e-b790-59890f0d02dc"
      },
      "source": [
        "from sklearn.svm import SVR\n",
        "svr=SVR()\n",
        "svr.fit(x_train,y_train)\n",
        "print_error(x_test,y_test,svr)"
      ],
      "execution_count": null,
      "outputs": [
        {
          "output_type": "stream",
          "text": [
            "Mean Absolute Error: 2321.6727370906847\n",
            "Mean Squared Error: 1375895906.8262146\n",
            "Root Mean Squared Error: 37093.07087349623\n"
          ],
          "name": "stdout"
        }
      ]
    },
    {
      "cell_type": "code",
      "metadata": {
        "colab": {
          "base_uri": "https://localhost:8080/"
        },
        "id": "X-b6QJ2OE7T-",
        "outputId": "3a1122a3-2f1b-470e-9b46-ff1db6eaf752"
      },
      "source": [
        "from sklearn.tree import DecisionTreeRegressor\n",
        "decission_tree_regressor=DecisionTreeRegressor(max_depth=100)\n",
        "decission_tree_regressor.fit(x_train,y_train)\n",
        "print_error(x_test,y_test,decission_tree_regressor)"
      ],
      "execution_count": null,
      "outputs": [
        {
          "output_type": "stream",
          "text": [
            "Mean Absolute Error: 2942.054132513661\n",
            "Mean Squared Error: 1441108358.171875\n",
            "Root Mean Squared Error: 37961.933014164\n"
          ],
          "name": "stdout"
        }
      ]
    },
    {
      "cell_type": "code",
      "metadata": {
        "colab": {
          "base_uri": "https://localhost:8080/"
        },
        "id": "KykA4AakKP7q",
        "outputId": "b387df70-0788-45f6-c3af-da7cc0a40c1e"
      },
      "source": [
        "from sklearn.ensemble import RandomForestRegressor\n",
        "RFR=RandomForestRegressor(n_estimators=200,max_depth = 25,min_samples_split=15,min_samples_leaf=2)\n",
        "RFR.fit(x_train,y_train)\n",
        "print_error(x_test,y_test,RFR)"
      ],
      "execution_count": null,
      "outputs": [
        {
          "output_type": "stream",
          "text": [
            "Mean Absolute Error: 2996.92982438284\n",
            "Mean Squared Error: 1354828288.9994454\n",
            "Root Mean Squared Error: 36807.99218918964\n"
          ],
          "name": "stdout"
        }
      ]
    },
    {
      "cell_type": "code",
      "metadata": {
        "colab": {
          "base_uri": "https://localhost:8080/"
        },
        "id": "zEJaVLrUUzq1",
        "outputId": "33823703-9843-4683-dd6b-c07032c6c32e"
      },
      "source": [
        "import keras\n",
        "from keras.layers import Dense\n",
        "ann = keras.models.Sequential([\n",
        "                               Dense(6, activation=\"relu\",\n",
        "                               input_shape=x_train.shape[1:]),\n",
        "                               Dense(6,activation=\"relu\"),\n",
        "                               Dense(1)\n",
        "                               ])\n",
        "optimizer=keras.optimizers.Adam()\n",
        "loss=keras.losses.mean_squared_error\n",
        "ann.compile(optimizer=optimizer,loss=loss,metrics=[\"mean_squared_error\"])\n",
        "history=ann.fit(x_train,y_train,epochs=100)\n",
        "ann.summary()\n",
        "print_error(x_test,y_test,ann)"
      ],
      "execution_count": null,
      "outputs": [
        {
          "output_type": "stream",
          "text": [
            "Epoch 1/100\n",
            "366/366 [==============================] - 0s 773us/step - loss: 631802880.0000 - mean_squared_error: 631802880.0000\n",
            "Epoch 2/100\n",
            "366/366 [==============================] - 0s 786us/step - loss: 631798336.0000 - mean_squared_error: 631798336.0000\n",
            "Epoch 3/100\n",
            "366/366 [==============================] - 0s 783us/step - loss: 631790464.0000 - mean_squared_error: 631790464.0000\n",
            "Epoch 4/100\n",
            "366/366 [==============================] - 0s 793us/step - loss: 631778048.0000 - mean_squared_error: 631778048.0000\n",
            "Epoch 5/100\n",
            "366/366 [==============================] - 0s 753us/step - loss: 631760832.0000 - mean_squared_error: 631760832.0000\n",
            "Epoch 6/100\n",
            "366/366 [==============================] - 0s 759us/step - loss: 631737792.0000 - mean_squared_error: 631737792.0000\n",
            "Epoch 7/100\n",
            "366/366 [==============================] - 0s 779us/step - loss: 631710272.0000 - mean_squared_error: 631710272.0000\n",
            "Epoch 8/100\n",
            "366/366 [==============================] - 0s 752us/step - loss: 631677632.0000 - mean_squared_error: 631677632.0000\n",
            "Epoch 9/100\n",
            "366/366 [==============================] - 0s 754us/step - loss: 631641152.0000 - mean_squared_error: 631641152.0000\n",
            "Epoch 10/100\n",
            "366/366 [==============================] - 0s 779us/step - loss: 631600576.0000 - mean_squared_error: 631600576.0000\n",
            "Epoch 11/100\n",
            "366/366 [==============================] - 0s 746us/step - loss: 631550016.0000 - mean_squared_error: 631550016.0000\n",
            "Epoch 12/100\n",
            "366/366 [==============================] - 0s 739us/step - loss: 631490560.0000 - mean_squared_error: 631490560.0000\n",
            "Epoch 13/100\n",
            "366/366 [==============================] - 0s 749us/step - loss: 631418880.0000 - mean_squared_error: 631418880.0000\n",
            "Epoch 14/100\n",
            "366/366 [==============================] - 0s 776us/step - loss: 631340480.0000 - mean_squared_error: 631340480.0000\n",
            "Epoch 15/100\n",
            "366/366 [==============================] - 0s 751us/step - loss: 631261760.0000 - mean_squared_error: 631261760.0000\n",
            "Epoch 16/100\n",
            "366/366 [==============================] - 0s 751us/step - loss: 631176384.0000 - mean_squared_error: 631176384.0000\n",
            "Epoch 17/100\n",
            "366/366 [==============================] - 0s 796us/step - loss: 631085504.0000 - mean_squared_error: 631085504.0000\n",
            "Epoch 18/100\n",
            "366/366 [==============================] - 0s 832us/step - loss: 630988544.0000 - mean_squared_error: 630988544.0000\n",
            "Epoch 19/100\n",
            "366/366 [==============================] - 0s 768us/step - loss: 630894720.0000 - mean_squared_error: 630894720.0000\n",
            "Epoch 20/100\n",
            "366/366 [==============================] - 0s 749us/step - loss: 630798784.0000 - mean_squared_error: 630798784.0000\n",
            "Epoch 21/100\n",
            "366/366 [==============================] - 0s 797us/step - loss: 630699136.0000 - mean_squared_error: 630699136.0000\n",
            "Epoch 22/100\n",
            "366/366 [==============================] - 0s 776us/step - loss: 630600576.0000 - mean_squared_error: 630600576.0000\n",
            "Epoch 23/100\n",
            "366/366 [==============================] - 0s 761us/step - loss: 630501760.0000 - mean_squared_error: 630501760.0000\n",
            "Epoch 24/100\n",
            "366/366 [==============================] - 0s 762us/step - loss: 630401728.0000 - mean_squared_error: 630401728.0000\n",
            "Epoch 25/100\n",
            "366/366 [==============================] - 0s 768us/step - loss: 630302784.0000 - mean_squared_error: 630302784.0000\n",
            "Epoch 26/100\n",
            "366/366 [==============================] - 0s 764us/step - loss: 630207040.0000 - mean_squared_error: 630207040.0000\n",
            "Epoch 27/100\n",
            "366/366 [==============================] - 0s 775us/step - loss: 630113600.0000 - mean_squared_error: 630113600.0000\n",
            "Epoch 28/100\n",
            "366/366 [==============================] - 0s 778us/step - loss: 630023936.0000 - mean_squared_error: 630023936.0000\n",
            "Epoch 29/100\n",
            "366/366 [==============================] - 0s 761us/step - loss: 629935552.0000 - mean_squared_error: 629935552.0000\n",
            "Epoch 30/100\n",
            "366/366 [==============================] - 0s 798us/step - loss: 629850368.0000 - mean_squared_error: 629850368.0000\n",
            "Epoch 31/100\n",
            "366/366 [==============================] - 0s 768us/step - loss: 629769408.0000 - mean_squared_error: 629769408.0000\n",
            "Epoch 32/100\n",
            "366/366 [==============================] - 0s 763us/step - loss: 629698112.0000 - mean_squared_error: 629698112.0000\n",
            "Epoch 33/100\n",
            "366/366 [==============================] - 0s 782us/step - loss: 629627456.0000 - mean_squared_error: 629627456.0000\n",
            "Epoch 34/100\n",
            "366/366 [==============================] - 0s 779us/step - loss: 629558656.0000 - mean_squared_error: 629558656.0000\n",
            "Epoch 35/100\n",
            "366/366 [==============================] - 0s 778us/step - loss: 629496128.0000 - mean_squared_error: 629496128.0000\n",
            "Epoch 36/100\n",
            "366/366 [==============================] - 0s 752us/step - loss: 629438272.0000 - mean_squared_error: 629438272.0000\n",
            "Epoch 37/100\n",
            "366/366 [==============================] - 0s 778us/step - loss: 629381568.0000 - mean_squared_error: 629381568.0000\n",
            "Epoch 38/100\n",
            "366/366 [==============================] - 0s 806us/step - loss: 629330112.0000 - mean_squared_error: 629330112.0000\n",
            "Epoch 39/100\n",
            "366/366 [==============================] - 0s 755us/step - loss: 629283520.0000 - mean_squared_error: 629283520.0000\n",
            "Epoch 40/100\n",
            "366/366 [==============================] - 0s 800us/step - loss: 629241344.0000 - mean_squared_error: 629241344.0000\n",
            "Epoch 41/100\n",
            "366/366 [==============================] - 0s 781us/step - loss: 629201600.0000 - mean_squared_error: 629201600.0000\n",
            "Epoch 42/100\n",
            "366/366 [==============================] - 0s 787us/step - loss: 629163136.0000 - mean_squared_error: 629163136.0000\n",
            "Epoch 43/100\n",
            "366/366 [==============================] - 0s 783us/step - loss: 629128960.0000 - mean_squared_error: 629128960.0000\n",
            "Epoch 44/100\n",
            "366/366 [==============================] - 0s 792us/step - loss: 629101184.0000 - mean_squared_error: 629101184.0000\n",
            "Epoch 45/100\n",
            "366/366 [==============================] - 0s 791us/step - loss: 629073344.0000 - mean_squared_error: 629073344.0000\n",
            "Epoch 46/100\n",
            "366/366 [==============================] - 0s 761us/step - loss: 629047872.0000 - mean_squared_error: 629047872.0000\n",
            "Epoch 47/100\n",
            "366/366 [==============================] - 0s 793us/step - loss: 629025856.0000 - mean_squared_error: 629025856.0000\n",
            "Epoch 48/100\n",
            "366/366 [==============================] - 0s 765us/step - loss: 629003520.0000 - mean_squared_error: 629003520.0000\n",
            "Epoch 49/100\n",
            "366/366 [==============================] - 0s 792us/step - loss: 628984512.0000 - mean_squared_error: 628984512.0000\n",
            "Epoch 50/100\n",
            "366/366 [==============================] - 0s 779us/step - loss: 628967616.0000 - mean_squared_error: 628967616.0000\n",
            "Epoch 51/100\n",
            "366/366 [==============================] - 0s 759us/step - loss: 628952000.0000 - mean_squared_error: 628952000.0000\n",
            "Epoch 52/100\n",
            "366/366 [==============================] - 0s 786us/step - loss: 628935744.0000 - mean_squared_error: 628935744.0000\n",
            "Epoch 53/100\n",
            "366/366 [==============================] - 0s 776us/step - loss: 628922560.0000 - mean_squared_error: 628922560.0000\n",
            "Epoch 54/100\n",
            "366/366 [==============================] - 0s 756us/step - loss: 628909120.0000 - mean_squared_error: 628909120.0000\n",
            "Epoch 55/100\n",
            "366/366 [==============================] - 0s 775us/step - loss: 628899008.0000 - mean_squared_error: 628899008.0000\n",
            "Epoch 56/100\n",
            "366/366 [==============================] - 0s 789us/step - loss: 628888704.0000 - mean_squared_error: 628888704.0000\n",
            "Epoch 57/100\n",
            "366/366 [==============================] - 0s 818us/step - loss: 628880384.0000 - mean_squared_error: 628880384.0000\n",
            "Epoch 58/100\n",
            "366/366 [==============================] - 0s 785us/step - loss: 628869824.0000 - mean_squared_error: 628869824.0000\n",
            "Epoch 59/100\n",
            "366/366 [==============================] - 0s 766us/step - loss: 628861440.0000 - mean_squared_error: 628861440.0000\n",
            "Epoch 60/100\n",
            "366/366 [==============================] - 0s 782us/step - loss: 628855872.0000 - mean_squared_error: 628855872.0000\n",
            "Epoch 61/100\n",
            "366/366 [==============================] - 0s 773us/step - loss: 628848192.0000 - mean_squared_error: 628848192.0000\n",
            "Epoch 62/100\n",
            "366/366 [==============================] - 0s 762us/step - loss: 628841344.0000 - mean_squared_error: 628841344.0000\n",
            "Epoch 63/100\n",
            "366/366 [==============================] - 0s 765us/step - loss: 628835584.0000 - mean_squared_error: 628835584.0000\n",
            "Epoch 64/100\n",
            "366/366 [==============================] - 0s 775us/step - loss: 628830592.0000 - mean_squared_error: 628830592.0000\n",
            "Epoch 65/100\n",
            "366/366 [==============================] - 0s 773us/step - loss: 628826432.0000 - mean_squared_error: 628826432.0000\n",
            "Epoch 66/100\n",
            "366/366 [==============================] - 0s 773us/step - loss: 628821184.0000 - mean_squared_error: 628821184.0000\n",
            "Epoch 67/100\n",
            "366/366 [==============================] - 0s 786us/step - loss: 628817472.0000 - mean_squared_error: 628817472.0000\n",
            "Epoch 68/100\n",
            "366/366 [==============================] - 0s 758us/step - loss: 628812992.0000 - mean_squared_error: 628812992.0000\n",
            "Epoch 69/100\n",
            "366/366 [==============================] - 0s 761us/step - loss: 628808640.0000 - mean_squared_error: 628808640.0000\n",
            "Epoch 70/100\n",
            "366/366 [==============================] - 0s 822us/step - loss: 628805120.0000 - mean_squared_error: 628805120.0000\n",
            "Epoch 71/100\n",
            "366/366 [==============================] - 0s 763us/step - loss: 628803200.0000 - mean_squared_error: 628803200.0000\n",
            "Epoch 72/100\n",
            "366/366 [==============================] - 0s 775us/step - loss: 628800192.0000 - mean_squared_error: 628800192.0000\n",
            "Epoch 73/100\n",
            "366/366 [==============================] - 0s 811us/step - loss: 628796864.0000 - mean_squared_error: 628796864.0000\n",
            "Epoch 74/100\n",
            "366/366 [==============================] - 0s 784us/step - loss: 628793152.0000 - mean_squared_error: 628793152.0000\n",
            "Epoch 75/100\n",
            "366/366 [==============================] - 0s 779us/step - loss: 628790912.0000 - mean_squared_error: 628790912.0000\n",
            "Epoch 76/100\n",
            "366/366 [==============================] - 0s 774us/step - loss: 628787648.0000 - mean_squared_error: 628787648.0000\n",
            "Epoch 77/100\n",
            "366/366 [==============================] - 0s 789us/step - loss: 628785216.0000 - mean_squared_error: 628785216.0000\n",
            "Epoch 78/100\n",
            "366/366 [==============================] - 0s 784us/step - loss: 628781248.0000 - mean_squared_error: 628781248.0000\n",
            "Epoch 79/100\n",
            "366/366 [==============================] - 0s 776us/step - loss: 628780224.0000 - mean_squared_error: 628780224.0000\n",
            "Epoch 80/100\n",
            "366/366 [==============================] - 0s 787us/step - loss: 628776640.0000 - mean_squared_error: 628776640.0000\n",
            "Epoch 81/100\n",
            "366/366 [==============================] - 0s 776us/step - loss: 628774848.0000 - mean_squared_error: 628774848.0000\n",
            "Epoch 82/100\n",
            "366/366 [==============================] - 0s 759us/step - loss: 628772480.0000 - mean_squared_error: 628772480.0000\n",
            "Epoch 83/100\n",
            "366/366 [==============================] - 0s 785us/step - loss: 628770496.0000 - mean_squared_error: 628770496.0000\n",
            "Epoch 84/100\n",
            "366/366 [==============================] - 0s 794us/step - loss: 628767488.0000 - mean_squared_error: 628767488.0000\n",
            "Epoch 85/100\n",
            "366/366 [==============================] - 0s 792us/step - loss: 628765760.0000 - mean_squared_error: 628765760.0000\n",
            "Epoch 86/100\n",
            "366/366 [==============================] - 0s 773us/step - loss: 628763328.0000 - mean_squared_error: 628763328.0000\n",
            "Epoch 87/100\n",
            "366/366 [==============================] - 0s 819us/step - loss: 628761216.0000 - mean_squared_error: 628761216.0000\n",
            "Epoch 88/100\n",
            "366/366 [==============================] - 0s 751us/step - loss: 628759488.0000 - mean_squared_error: 628759488.0000\n",
            "Epoch 89/100\n",
            "366/366 [==============================] - 0s 782us/step - loss: 628757696.0000 - mean_squared_error: 628757696.0000\n",
            "Epoch 90/100\n",
            "366/366 [==============================] - 0s 792us/step - loss: 628757888.0000 - mean_squared_error: 628757888.0000\n",
            "Epoch 91/100\n",
            "366/366 [==============================] - 0s 812us/step - loss: 628751872.0000 - mean_squared_error: 628751872.0000\n",
            "Epoch 92/100\n",
            "366/366 [==============================] - 0s 819us/step - loss: 628750208.0000 - mean_squared_error: 628750208.0000\n",
            "Epoch 93/100\n",
            "366/366 [==============================] - 0s 824us/step - loss: 628749184.0000 - mean_squared_error: 628749184.0000\n",
            "Epoch 94/100\n",
            "366/366 [==============================] - 0s 798us/step - loss: 628746048.0000 - mean_squared_error: 628746048.0000\n",
            "Epoch 95/100\n",
            "366/366 [==============================] - 0s 784us/step - loss: 628744256.0000 - mean_squared_error: 628744256.0000\n",
            "Epoch 96/100\n",
            "366/366 [==============================] - 0s 776us/step - loss: 628743296.0000 - mean_squared_error: 628743296.0000\n",
            "Epoch 97/100\n",
            "366/366 [==============================] - 0s 843us/step - loss: 628739648.0000 - mean_squared_error: 628739648.0000\n",
            "Epoch 98/100\n",
            "366/366 [==============================] - 0s 813us/step - loss: 628741312.0000 - mean_squared_error: 628741312.0000\n",
            "Epoch 99/100\n",
            "366/366 [==============================] - 0s 768us/step - loss: 628737792.0000 - mean_squared_error: 628737792.0000\n",
            "Epoch 100/100\n",
            "366/366 [==============================] - 0s 804us/step - loss: 628734400.0000 - mean_squared_error: 628734400.0000\n",
            "Model: \"sequential\"\n",
            "_________________________________________________________________\n",
            "Layer (type)                 Output Shape              Param #   \n",
            "=================================================================\n",
            "dense (Dense)                (None, 6)                 24        \n",
            "_________________________________________________________________\n",
            "dense_1 (Dense)              (None, 6)                 42        \n",
            "_________________________________________________________________\n",
            "dense_2 (Dense)              (None, 1)                 7         \n",
            "=================================================================\n",
            "Total params: 73\n",
            "Trainable params: 73\n",
            "Non-trainable params: 0\n",
            "_________________________________________________________________\n",
            "Mean Absolute Error: 3807.543301462476\n",
            "Mean Squared Error: 1369556158.565148\n",
            "Root Mean Squared Error: 37007.51489312878\n"
          ],
          "name": "stdout"
        }
      ]
    },
    {
      "cell_type": "code",
      "metadata": {
        "id": "OKrV795OZSeA"
      },
      "source": [
        "Test_Data=pd.read_csv('test.csv')"
      ],
      "execution_count": null,
      "outputs": []
    },
    {
      "cell_type": "code",
      "metadata": {
        "colab": {
          "base_uri": "https://localhost:8080/",
          "height": 405
        },
        "id": "pkiH_FcRZ3-X",
        "outputId": "326e5c35-41c3-40e9-8ec9-989d00ec57d2"
      },
      "source": [
        "Test_Data"
      ],
      "execution_count": null,
      "outputs": [
        {
          "output_type": "execute_result",
          "data": {
            "text/html": [
              "<div>\n",
              "<style scoped>\n",
              "    .dataframe tbody tr th:only-of-type {\n",
              "        vertical-align: middle;\n",
              "    }\n",
              "\n",
              "    .dataframe tbody tr th {\n",
              "        vertical-align: top;\n",
              "    }\n",
              "\n",
              "    .dataframe thead th {\n",
              "        text-align: right;\n",
              "    }\n",
              "</style>\n",
              "<table border=\"1\" class=\"dataframe\">\n",
              "  <thead>\n",
              "    <tr style=\"text-align: right;\">\n",
              "      <th></th>\n",
              "      <th>vidid</th>\n",
              "      <th>views</th>\n",
              "      <th>likes</th>\n",
              "      <th>dislikes</th>\n",
              "      <th>comment</th>\n",
              "      <th>published</th>\n",
              "      <th>duration</th>\n",
              "      <th>category</th>\n",
              "    </tr>\n",
              "  </thead>\n",
              "  <tbody>\n",
              "    <tr>\n",
              "      <th>0</th>\n",
              "      <td>VID_1054</td>\n",
              "      <td>440238</td>\n",
              "      <td>6153</td>\n",
              "      <td>218</td>\n",
              "      <td>1377</td>\n",
              "      <td>2017-02-18</td>\n",
              "      <td>PT7M29S</td>\n",
              "      <td>B</td>\n",
              "    </tr>\n",
              "    <tr>\n",
              "      <th>1</th>\n",
              "      <td>VID_18629</td>\n",
              "      <td>1040132</td>\n",
              "      <td>8171</td>\n",
              "      <td>340</td>\n",
              "      <td>1047</td>\n",
              "      <td>2016-06-28</td>\n",
              "      <td>PT6M29S</td>\n",
              "      <td>F</td>\n",
              "    </tr>\n",
              "    <tr>\n",
              "      <th>2</th>\n",
              "      <td>VID_13967</td>\n",
              "      <td>28534</td>\n",
              "      <td>31</td>\n",
              "      <td>11</td>\n",
              "      <td>1</td>\n",
              "      <td>2014-03-10</td>\n",
              "      <td>PT37M54S</td>\n",
              "      <td>D</td>\n",
              "    </tr>\n",
              "    <tr>\n",
              "      <th>3</th>\n",
              "      <td>VID_19442</td>\n",
              "      <td>1316715</td>\n",
              "      <td>2284</td>\n",
              "      <td>250</td>\n",
              "      <td>274</td>\n",
              "      <td>2010-06-05</td>\n",
              "      <td>PT9M55S</td>\n",
              "      <td>G</td>\n",
              "    </tr>\n",
              "    <tr>\n",
              "      <th>4</th>\n",
              "      <td>VID_770</td>\n",
              "      <td>1893173</td>\n",
              "      <td>2519</td>\n",
              "      <td>225</td>\n",
              "      <td>116</td>\n",
              "      <td>2016-09-03</td>\n",
              "      <td>PT3M8S</td>\n",
              "      <td>B</td>\n",
              "    </tr>\n",
              "    <tr>\n",
              "      <th>...</th>\n",
              "      <td>...</td>\n",
              "      <td>...</td>\n",
              "      <td>...</td>\n",
              "      <td>...</td>\n",
              "      <td>...</td>\n",
              "      <td>...</td>\n",
              "      <td>...</td>\n",
              "      <td>...</td>\n",
              "    </tr>\n",
              "    <tr>\n",
              "      <th>8759</th>\n",
              "      <td>VID_2944</td>\n",
              "      <td>111205</td>\n",
              "      <td>471</td>\n",
              "      <td>14</td>\n",
              "      <td>101</td>\n",
              "      <td>2011-04-19</td>\n",
              "      <td>PT3M14S</td>\n",
              "      <td>C</td>\n",
              "    </tr>\n",
              "    <tr>\n",
              "      <th>8760</th>\n",
              "      <td>VID_8195</td>\n",
              "      <td>1074457</td>\n",
              "      <td>1024</td>\n",
              "      <td>195</td>\n",
              "      <td>65</td>\n",
              "      <td>2016-06-03</td>\n",
              "      <td>PT2H18M35S</td>\n",
              "      <td>D</td>\n",
              "    </tr>\n",
              "    <tr>\n",
              "      <th>8761</th>\n",
              "      <td>VID_18973</td>\n",
              "      <td>1891692</td>\n",
              "      <td>4606</td>\n",
              "      <td>1109</td>\n",
              "      <td>191</td>\n",
              "      <td>2016-06-26</td>\n",
              "      <td>PT7M14S</td>\n",
              "      <td>F</td>\n",
              "    </tr>\n",
              "    <tr>\n",
              "      <th>8762</th>\n",
              "      <td>VID_5849</td>\n",
              "      <td>714859</td>\n",
              "      <td>1639</td>\n",
              "      <td>151</td>\n",
              "      <td>382</td>\n",
              "      <td>2016-03-23</td>\n",
              "      <td>PT3M15S</td>\n",
              "      <td>D</td>\n",
              "    </tr>\n",
              "    <tr>\n",
              "      <th>8763</th>\n",
              "      <td>VID_8494</td>\n",
              "      <td>5297</td>\n",
              "      <td>12</td>\n",
              "      <td>1</td>\n",
              "      <td>0</td>\n",
              "      <td>2016-12-19</td>\n",
              "      <td>PT10M14S</td>\n",
              "      <td>D</td>\n",
              "    </tr>\n",
              "  </tbody>\n",
              "</table>\n",
              "<p>8764 rows × 8 columns</p>\n",
              "</div>"
            ],
            "text/plain": [
              "          vidid    views likes  ...   published    duration category\n",
              "0      VID_1054   440238  6153  ...  2017-02-18     PT7M29S        B\n",
              "1     VID_18629  1040132  8171  ...  2016-06-28     PT6M29S        F\n",
              "2     VID_13967    28534    31  ...  2014-03-10    PT37M54S        D\n",
              "3     VID_19442  1316715  2284  ...  2010-06-05     PT9M55S        G\n",
              "4       VID_770  1893173  2519  ...  2016-09-03      PT3M8S        B\n",
              "...         ...      ...   ...  ...         ...         ...      ...\n",
              "8759   VID_2944   111205   471  ...  2011-04-19     PT3M14S        C\n",
              "8760   VID_8195  1074457  1024  ...  2016-06-03  PT2H18M35S        D\n",
              "8761  VID_18973  1891692  4606  ...  2016-06-26     PT7M14S        F\n",
              "8762   VID_5849   714859  1639  ...  2016-03-23     PT3M15S        D\n",
              "8763   VID_8494     5297    12  ...  2016-12-19    PT10M14S        D\n",
              "\n",
              "[8764 rows x 8 columns]"
            ]
          },
          "metadata": {
            "tags": []
          },
          "execution_count": 34
        }
      ]
    },
    {
      "cell_type": "code",
      "metadata": {
        "colab": {
          "base_uri": "https://localhost:8080/"
        },
        "id": "1VZbtGjDavkv",
        "outputId": "96d89863-53ba-4c27-812f-a25be981e1a6"
      },
      "source": [
        "Test_Data.info()"
      ],
      "execution_count": null,
      "outputs": [
        {
          "output_type": "stream",
          "text": [
            "<class 'pandas.core.frame.DataFrame'>\n",
            "RangeIndex: 8764 entries, 0 to 8763\n",
            "Data columns (total 8 columns):\n",
            " #   Column     Non-Null Count  Dtype \n",
            "---  ------     --------------  ----- \n",
            " 0   vidid      8764 non-null   object\n",
            " 1   views      8764 non-null   object\n",
            " 2   likes      8764 non-null   object\n",
            " 3   dislikes   8764 non-null   object\n",
            " 4   comment    8764 non-null   object\n",
            " 5   published  8764 non-null   object\n",
            " 6   duration   8764 non-null   object\n",
            " 7   category   8764 non-null   object\n",
            "dtypes: object(8)\n",
            "memory usage: 547.9+ KB\n"
          ],
          "name": "stdout"
        }
      ]
    },
    {
      "cell_type": "code",
      "metadata": {
        "colab": {
          "base_uri": "https://localhost:8080/",
          "height": 197
        },
        "id": "XH_eflceZ8D9",
        "outputId": "fef1d707-fc72-481a-adba-75cfb748f0b3"
      },
      "source": [
        "category={'A': 1,'B':2,'C':3,'D':4,'E':5,'F':6,'G':7,'H':8}\n",
        "Test_Data[\"category\"]=Test_Data[\"category\"].map(category)\n",
        "Test_Data.head()"
      ],
      "execution_count": null,
      "outputs": [
        {
          "output_type": "execute_result",
          "data": {
            "text/html": [
              "<div>\n",
              "<style scoped>\n",
              "    .dataframe tbody tr th:only-of-type {\n",
              "        vertical-align: middle;\n",
              "    }\n",
              "\n",
              "    .dataframe tbody tr th {\n",
              "        vertical-align: top;\n",
              "    }\n",
              "\n",
              "    .dataframe thead th {\n",
              "        text-align: right;\n",
              "    }\n",
              "</style>\n",
              "<table border=\"1\" class=\"dataframe\">\n",
              "  <thead>\n",
              "    <tr style=\"text-align: right;\">\n",
              "      <th></th>\n",
              "      <th>vidid</th>\n",
              "      <th>views</th>\n",
              "      <th>likes</th>\n",
              "      <th>dislikes</th>\n",
              "      <th>comment</th>\n",
              "      <th>published</th>\n",
              "      <th>duration</th>\n",
              "      <th>category</th>\n",
              "    </tr>\n",
              "  </thead>\n",
              "  <tbody>\n",
              "    <tr>\n",
              "      <th>0</th>\n",
              "      <td>VID_1054</td>\n",
              "      <td>440238</td>\n",
              "      <td>6153</td>\n",
              "      <td>218</td>\n",
              "      <td>1377</td>\n",
              "      <td>2017-02-18</td>\n",
              "      <td>PT7M29S</td>\n",
              "      <td>2</td>\n",
              "    </tr>\n",
              "    <tr>\n",
              "      <th>1</th>\n",
              "      <td>VID_18629</td>\n",
              "      <td>1040132</td>\n",
              "      <td>8171</td>\n",
              "      <td>340</td>\n",
              "      <td>1047</td>\n",
              "      <td>2016-06-28</td>\n",
              "      <td>PT6M29S</td>\n",
              "      <td>6</td>\n",
              "    </tr>\n",
              "    <tr>\n",
              "      <th>2</th>\n",
              "      <td>VID_13967</td>\n",
              "      <td>28534</td>\n",
              "      <td>31</td>\n",
              "      <td>11</td>\n",
              "      <td>1</td>\n",
              "      <td>2014-03-10</td>\n",
              "      <td>PT37M54S</td>\n",
              "      <td>4</td>\n",
              "    </tr>\n",
              "    <tr>\n",
              "      <th>3</th>\n",
              "      <td>VID_19442</td>\n",
              "      <td>1316715</td>\n",
              "      <td>2284</td>\n",
              "      <td>250</td>\n",
              "      <td>274</td>\n",
              "      <td>2010-06-05</td>\n",
              "      <td>PT9M55S</td>\n",
              "      <td>7</td>\n",
              "    </tr>\n",
              "    <tr>\n",
              "      <th>4</th>\n",
              "      <td>VID_770</td>\n",
              "      <td>1893173</td>\n",
              "      <td>2519</td>\n",
              "      <td>225</td>\n",
              "      <td>116</td>\n",
              "      <td>2016-09-03</td>\n",
              "      <td>PT3M8S</td>\n",
              "      <td>2</td>\n",
              "    </tr>\n",
              "  </tbody>\n",
              "</table>\n",
              "</div>"
            ],
            "text/plain": [
              "       vidid    views likes dislikes comment   published  duration  category\n",
              "0   VID_1054   440238  6153      218    1377  2017-02-18   PT7M29S         2\n",
              "1  VID_18629  1040132  8171      340    1047  2016-06-28   PT6M29S         6\n",
              "2  VID_13967    28534    31       11       1  2014-03-10  PT37M54S         4\n",
              "3  VID_19442  1316715  2284      250     274  2010-06-05   PT9M55S         7\n",
              "4    VID_770  1893173  2519      225     116  2016-09-03    PT3M8S         2"
            ]
          },
          "metadata": {
            "tags": []
          },
          "execution_count": 36
        }
      ]
    },
    {
      "cell_type": "code",
      "metadata": {
        "id": "bniEZFQGbNyT"
      },
      "source": [
        "mp_test=Test_Data['duration']\n",
        "time_test=mp_test.apply(func)\n",
        "time1_test=time_test.apply(sec)\n"
      ],
      "execution_count": null,
      "outputs": []
    },
    {
      "cell_type": "code",
      "metadata": {
        "colab": {
          "base_uri": "https://localhost:8080/",
          "height": 197
        },
        "id": "6Py1LvVpaQFn",
        "outputId": "150dcbca-84b1-495f-caa3-532aac552392"
      },
      "source": [
        "Test_Data['duration']=time1_test\n",
        "Test_Data.head()\n"
      ],
      "execution_count": null,
      "outputs": [
        {
          "output_type": "execute_result",
          "data": {
            "text/html": [
              "<div>\n",
              "<style scoped>\n",
              "    .dataframe tbody tr th:only-of-type {\n",
              "        vertical-align: middle;\n",
              "    }\n",
              "\n",
              "    .dataframe tbody tr th {\n",
              "        vertical-align: top;\n",
              "    }\n",
              "\n",
              "    .dataframe thead th {\n",
              "        text-align: right;\n",
              "    }\n",
              "</style>\n",
              "<table border=\"1\" class=\"dataframe\">\n",
              "  <thead>\n",
              "    <tr style=\"text-align: right;\">\n",
              "      <th></th>\n",
              "      <th>vidid</th>\n",
              "      <th>views</th>\n",
              "      <th>likes</th>\n",
              "      <th>dislikes</th>\n",
              "      <th>comment</th>\n",
              "      <th>published</th>\n",
              "      <th>duration</th>\n",
              "      <th>category</th>\n",
              "    </tr>\n",
              "  </thead>\n",
              "  <tbody>\n",
              "    <tr>\n",
              "      <th>0</th>\n",
              "      <td>VID_1054</td>\n",
              "      <td>440238</td>\n",
              "      <td>6153</td>\n",
              "      <td>218</td>\n",
              "      <td>1377</td>\n",
              "      <td>2017-02-18</td>\n",
              "      <td>449</td>\n",
              "      <td>2</td>\n",
              "    </tr>\n",
              "    <tr>\n",
              "      <th>1</th>\n",
              "      <td>VID_18629</td>\n",
              "      <td>1040132</td>\n",
              "      <td>8171</td>\n",
              "      <td>340</td>\n",
              "      <td>1047</td>\n",
              "      <td>2016-06-28</td>\n",
              "      <td>389</td>\n",
              "      <td>6</td>\n",
              "    </tr>\n",
              "    <tr>\n",
              "      <th>2</th>\n",
              "      <td>VID_13967</td>\n",
              "      <td>28534</td>\n",
              "      <td>31</td>\n",
              "      <td>11</td>\n",
              "      <td>1</td>\n",
              "      <td>2014-03-10</td>\n",
              "      <td>2274</td>\n",
              "      <td>4</td>\n",
              "    </tr>\n",
              "    <tr>\n",
              "      <th>3</th>\n",
              "      <td>VID_19442</td>\n",
              "      <td>1316715</td>\n",
              "      <td>2284</td>\n",
              "      <td>250</td>\n",
              "      <td>274</td>\n",
              "      <td>2010-06-05</td>\n",
              "      <td>595</td>\n",
              "      <td>7</td>\n",
              "    </tr>\n",
              "    <tr>\n",
              "      <th>4</th>\n",
              "      <td>VID_770</td>\n",
              "      <td>1893173</td>\n",
              "      <td>2519</td>\n",
              "      <td>225</td>\n",
              "      <td>116</td>\n",
              "      <td>2016-09-03</td>\n",
              "      <td>188</td>\n",
              "      <td>2</td>\n",
              "    </tr>\n",
              "  </tbody>\n",
              "</table>\n",
              "</div>"
            ],
            "text/plain": [
              "       vidid    views likes dislikes comment   published  duration  category\n",
              "0   VID_1054   440238  6153      218    1377  2017-02-18       449         2\n",
              "1  VID_18629  1040132  8171      340    1047  2016-06-28       389         6\n",
              "2  VID_13967    28534    31       11       1  2014-03-10      2274         4\n",
              "3  VID_19442  1316715  2284      250     274  2010-06-05       595         7\n",
              "4    VID_770  1893173  2519      225     116  2016-09-03       188         2"
            ]
          },
          "metadata": {
            "tags": []
          },
          "execution_count": 38
        }
      ]
    },
    {
      "cell_type": "code",
      "metadata": {
        "colab": {
          "base_uri": "https://localhost:8080/"
        },
        "id": "qTK5KxlUeV7D",
        "outputId": "0c3f5853-67a5-44e5-ef40-63515597a4ad"
      },
      "source": [
        "Test_Data.shape"
      ],
      "execution_count": null,
      "outputs": [
        {
          "output_type": "execute_result",
          "data": {
            "text/plain": [
              "(8764, 8)"
            ]
          },
          "metadata": {
            "tags": []
          },
          "execution_count": 39
        }
      ]
    },
    {
      "cell_type": "code",
      "metadata": {
        "id": "jD9l_T2Gcppa"
      },
      "source": [
        "Test_Data=Test_Data[Test_Data.views!='F']\n",
        "Test_Data=Test_Data[Test_Data.likes!='F']\n"
      ],
      "execution_count": null,
      "outputs": []
    },
    {
      "cell_type": "code",
      "metadata": {
        "colab": {
          "base_uri": "https://localhost:8080/"
        },
        "id": "k49lIHA4eygB",
        "outputId": "6cf8a70b-eeb7-4806-bfed-90109db3acfe"
      },
      "source": [
        "Test_Data.shape"
      ],
      "execution_count": null,
      "outputs": [
        {
          "output_type": "execute_result",
          "data": {
            "text/plain": [
              "(8675, 8)"
            ]
          },
          "metadata": {
            "tags": []
          },
          "execution_count": 41
        }
      ]
    },
    {
      "cell_type": "code",
      "metadata": {
        "id": "UNRAbSR9e3vQ"
      },
      "source": [
        "Test_Data['views']=pd.to_numeric(Test_Data['views'])\n",
        "Test_Data['likes']=pd.to_numeric(Test_Data['likes'])\n"
      ],
      "execution_count": null,
      "outputs": []
    },
    {
      "cell_type": "code",
      "metadata": {
        "colab": {
          "base_uri": "https://localhost:8080/",
          "height": 197
        },
        "id": "YLsAnenrfdeO",
        "outputId": "267f0a26-567c-4220-94ea-9c3692ca0782"
      },
      "source": [
        "from sklearn.preprocessing import LabelEncoder\n",
        "Test_Data['published']=LabelEncoder().fit_transform(Test_Data['published'])\n",
        "Test_Data['vidid']=LabelEncoder().fit_transform(Test_Data['vidid'])\n",
        "Test_Data.head()"
      ],
      "execution_count": null,
      "outputs": [
        {
          "output_type": "execute_result",
          "data": {
            "text/html": [
              "<div>\n",
              "<style scoped>\n",
              "    .dataframe tbody tr th:only-of-type {\n",
              "        vertical-align: middle;\n",
              "    }\n",
              "\n",
              "    .dataframe tbody tr th {\n",
              "        vertical-align: top;\n",
              "    }\n",
              "\n",
              "    .dataframe thead th {\n",
              "        text-align: right;\n",
              "    }\n",
              "</style>\n",
              "<table border=\"1\" class=\"dataframe\">\n",
              "  <thead>\n",
              "    <tr style=\"text-align: right;\">\n",
              "      <th></th>\n",
              "      <th>vidid</th>\n",
              "      <th>views</th>\n",
              "      <th>likes</th>\n",
              "      <th>dislikes</th>\n",
              "      <th>comment</th>\n",
              "      <th>published</th>\n",
              "      <th>duration</th>\n",
              "      <th>category</th>\n",
              "    </tr>\n",
              "  </thead>\n",
              "  <tbody>\n",
              "    <tr>\n",
              "      <th>0</th>\n",
              "      <td>231</td>\n",
              "      <td>440238</td>\n",
              "      <td>6153</td>\n",
              "      <td>218</td>\n",
              "      <td>1377</td>\n",
              "      <td>2053</td>\n",
              "      <td>449</td>\n",
              "      <td>2</td>\n",
              "    </tr>\n",
              "    <tr>\n",
              "      <th>1</th>\n",
              "      <td>3488</td>\n",
              "      <td>1040132</td>\n",
              "      <td>8171</td>\n",
              "      <td>340</td>\n",
              "      <td>1047</td>\n",
              "      <td>1825</td>\n",
              "      <td>389</td>\n",
              "      <td>6</td>\n",
              "    </tr>\n",
              "    <tr>\n",
              "      <th>2</th>\n",
              "      <td>1618</td>\n",
              "      <td>28534</td>\n",
              "      <td>31</td>\n",
              "      <td>11</td>\n",
              "      <td>1</td>\n",
              "      <td>1009</td>\n",
              "      <td>2274</td>\n",
              "      <td>4</td>\n",
              "    </tr>\n",
              "    <tr>\n",
              "      <th>3</th>\n",
              "      <td>3819</td>\n",
              "      <td>1316715</td>\n",
              "      <td>2284</td>\n",
              "      <td>250</td>\n",
              "      <td>274</td>\n",
              "      <td>116</td>\n",
              "      <td>595</td>\n",
              "      <td>7</td>\n",
              "    </tr>\n",
              "    <tr>\n",
              "      <th>4</th>\n",
              "      <td>7765</td>\n",
              "      <td>1893173</td>\n",
              "      <td>2519</td>\n",
              "      <td>225</td>\n",
              "      <td>116</td>\n",
              "      <td>1892</td>\n",
              "      <td>188</td>\n",
              "      <td>2</td>\n",
              "    </tr>\n",
              "  </tbody>\n",
              "</table>\n",
              "</div>"
            ],
            "text/plain": [
              "   vidid    views  likes dislikes comment  published  duration  category\n",
              "0    231   440238   6153      218    1377       2053       449         2\n",
              "1   3488  1040132   8171      340    1047       1825       389         6\n",
              "2   1618    28534     31       11       1       1009      2274         4\n",
              "3   3819  1316715   2284      250     274        116       595         7\n",
              "4   7765  1893173   2519      225     116       1892       188         2"
            ]
          },
          "metadata": {
            "tags": []
          },
          "execution_count": 43
        }
      ]
    },
    {
      "cell_type": "code",
      "metadata": {
        "id": "G-IBFKgkgJKQ"
      },
      "source": [
        "Test=Test_Data[['views','likes','published']].values\n"
      ],
      "execution_count": null,
      "outputs": []
    },
    {
      "cell_type": "code",
      "metadata": {
        "id": "owzItE4jgwiK"
      },
      "source": [
        "Test_Sc=scalerx.fit_transform(Test)"
      ],
      "execution_count": null,
      "outputs": []
    },
    {
      "cell_type": "code",
      "metadata": {
        "colab": {
          "base_uri": "https://localhost:8080/"
        },
        "id": "R0abGYnqlQkd",
        "outputId": "533c996d-7691-47b1-8383-6f33c8ad98ef"
      },
      "source": [
        "Test_Sc"
      ],
      "execution_count": null,
      "outputs": [
        {
          "output_type": "execute_result",
          "data": {
            "text/plain": [
              "array([[1.95520958e-03, 1.92237996e-02, 9.75296912e-01],\n",
              "       [4.61965571e-03, 2.55286311e-02, 8.66983373e-01],\n",
              "       [1.26614645e-04, 9.68532080e-05, 4.79334917e-01],\n",
              "       ...,\n",
              "       [8.40188347e-03, 1.43905121e-02, 8.66033254e-01],\n",
              "       [3.17494650e-03, 5.12072284e-03, 8.20902613e-01],\n",
              "       [2.34068537e-05, 3.74915644e-05, 9.48218527e-01]])"
            ]
          },
          "metadata": {
            "tags": []
          },
          "execution_count": 46
        }
      ]
    },
    {
      "cell_type": "code",
      "metadata": {
        "colab": {
          "base_uri": "https://localhost:8080/"
        },
        "id": "KKk6Ge4khBTX",
        "outputId": "a84cccef-1070-4d52-ae9a-8a8bf54534b3"
      },
      "source": [
        "Test_Sc.shape"
      ],
      "execution_count": null,
      "outputs": [
        {
          "output_type": "execute_result",
          "data": {
            "text/plain": [
              "(8675, 3)"
            ]
          },
          "metadata": {
            "tags": []
          },
          "execution_count": 47
        }
      ]
    },
    {
      "cell_type": "code",
      "metadata": {
        "id": "KOYnEDTvkbP-"
      },
      "source": [
        "predictions1=RFR.predict(Test_Sc)"
      ],
      "execution_count": null,
      "outputs": []
    },
    {
      "cell_type": "code",
      "metadata": {
        "id": "awiAbiwZFzt4"
      },
      "source": [
        "predictions2=linear_regression.predict(Test_Sc)"
      ],
      "execution_count": null,
      "outputs": []
    },
    {
      "cell_type": "code",
      "metadata": {
        "id": "QjWFrzj6kZLV"
      },
      "source": [
        "predictions3=decission_tree_regressor.predict(Test_Sc)"
      ],
      "execution_count": null,
      "outputs": []
    },
    {
      "cell_type": "code",
      "metadata": {
        "colab": {
          "base_uri": "https://localhost:8080/"
        },
        "id": "4jnIdskZtcgj",
        "outputId": "cd46b6a4-6d1b-4f3e-d172-63cdbf08a2d1"
      },
      "source": [
        "print(predictions3.min(),predictions3.max(),predictions3.mean())"
      ],
      "execution_count": null,
      "outputs": [
        {
          "output_type": "stream",
          "text": [
            "1.0 991819.0 1258.7544668587896\n"
          ],
          "name": "stdout"
        }
      ]
    },
    {
      "cell_type": "code",
      "metadata": {
        "id": "aFNXykUnq_N6"
      },
      "source": [
        "predictions4=svr.predict(Test_Sc)"
      ],
      "execution_count": null,
      "outputs": []
    },
    {
      "cell_type": "code",
      "metadata": {
        "colab": {
          "base_uri": "https://localhost:8080/"
        },
        "id": "XBX78E2XvQRW",
        "outputId": "ea4ba53a-eb08-47a5-8033-e9811aa15e8d"
      },
      "source": [
        "predictions4"
      ],
      "execution_count": null,
      "outputs": [
        {
          "output_type": "execute_result",
          "data": {
            "text/plain": [
              "array([2.81294839, 2.45132679, 1.83121315, ..., 2.36896221, 1.62811474,\n",
              "       2.08131873])"
            ]
          },
          "metadata": {
            "tags": []
          },
          "execution_count": 53
        }
      ]
    },
    {
      "cell_type": "code",
      "metadata": {
        "id": "enXE2pvqvAFc"
      },
      "source": [
        "predictions5=ann.predict(Test_Sc).reshape(1,8675)"
      ],
      "execution_count": null,
      "outputs": []
    },
    {
      "cell_type": "code",
      "metadata": {
        "colab": {
          "base_uri": "https://localhost:8080/"
        },
        "id": "Zu2RtzhHvGet",
        "outputId": "27389cfd-057b-4eec-d3b9-1a735a96534f"
      },
      "source": [
        "predictions5"
      ],
      "execution_count": null,
      "outputs": [
        {
          "output_type": "execute_result",
          "data": {
            "text/plain": [
              "array([[2064.6453, 1939.8175, 1469.8761, ..., 1937.6201, 1878.1088,\n",
              "        2025.5319]], dtype=float32)"
            ]
          },
          "metadata": {
            "tags": []
          },
          "execution_count": 55
        }
      ]
    },
    {
      "cell_type": "code",
      "metadata": {
        "colab": {
          "base_uri": "https://localhost:8080/"
        },
        "id": "iCRRBPRCvqK6",
        "outputId": "3030236b-6c1b-447f-dfcf-f27f8e6b9de3"
      },
      "source": [
        "print(predictions5.min(),predictions5.max(),predictions5.mean())"
      ],
      "execution_count": null,
      "outputs": [
        {
          "output_type": "stream",
          "text": [
            "903.192 2729.8462 1644.8905\n"
          ],
          "name": "stdout"
        }
      ]
    },
    {
      "cell_type": "code",
      "metadata": {
        "id": "LG_fijhdkpB9"
      },
      "source": [
        "A=pd.DataFrame({'LR':predictions2,'RFR':predictions1,'DTR':predictions3,'SVR':predictions4})"
      ],
      "execution_count": null,
      "outputs": []
    },
    {
      "cell_type": "code",
      "metadata": {
        "colab": {
          "base_uri": "https://localhost:8080/",
          "height": 1000
        },
        "id": "CHDuutVnlD6Q",
        "outputId": "3055f7c6-3683-422d-cd02-e7d6ef0351c4"
      },
      "source": [
        "A.head(50)"
      ],
      "execution_count": null,
      "outputs": [
        {
          "output_type": "execute_result",
          "data": {
            "text/html": [
              "<div>\n",
              "<style scoped>\n",
              "    .dataframe tbody tr th:only-of-type {\n",
              "        vertical-align: middle;\n",
              "    }\n",
              "\n",
              "    .dataframe tbody tr th {\n",
              "        vertical-align: top;\n",
              "    }\n",
              "\n",
              "    .dataframe thead th {\n",
              "        text-align: right;\n",
              "    }\n",
              "</style>\n",
              "<table border=\"1\" class=\"dataframe\">\n",
              "  <thead>\n",
              "    <tr style=\"text-align: right;\">\n",
              "      <th></th>\n",
              "      <th>LR</th>\n",
              "      <th>RFR</th>\n",
              "      <th>DTR</th>\n",
              "      <th>SVR</th>\n",
              "    </tr>\n",
              "  </thead>\n",
              "  <tbody>\n",
              "    <tr>\n",
              "      <th>0</th>\n",
              "      <td>3242.214308</td>\n",
              "      <td>83.602848</td>\n",
              "      <td>446.0</td>\n",
              "      <td>2.812948</td>\n",
              "    </tr>\n",
              "    <tr>\n",
              "      <th>1</th>\n",
              "      <td>2566.708168</td>\n",
              "      <td>2161.929824</td>\n",
              "      <td>4.0</td>\n",
              "      <td>2.451327</td>\n",
              "    </tr>\n",
              "    <tr>\n",
              "      <th>2</th>\n",
              "      <td>584.107664</td>\n",
              "      <td>67.465012</td>\n",
              "      <td>1.0</td>\n",
              "      <td>1.831213</td>\n",
              "    </tr>\n",
              "    <tr>\n",
              "      <th>3</th>\n",
              "      <td>-1892.263177</td>\n",
              "      <td>253.253517</td>\n",
              "      <td>13.0</td>\n",
              "      <td>2.174460</td>\n",
              "    </tr>\n",
              "    <tr>\n",
              "      <th>4</th>\n",
              "      <td>3101.151710</td>\n",
              "      <td>8.679811</td>\n",
              "      <td>9.0</td>\n",
              "      <td>2.372081</td>\n",
              "    </tr>\n",
              "    <tr>\n",
              "      <th>5</th>\n",
              "      <td>463.638184</td>\n",
              "      <td>2.864989</td>\n",
              "      <td>3.0</td>\n",
              "      <td>1.968012</td>\n",
              "    </tr>\n",
              "    <tr>\n",
              "      <th>6</th>\n",
              "      <td>718.275420</td>\n",
              "      <td>5.985134</td>\n",
              "      <td>1.0</td>\n",
              "      <td>1.736469</td>\n",
              "    </tr>\n",
              "    <tr>\n",
              "      <th>7</th>\n",
              "      <td>2896.806600</td>\n",
              "      <td>2329.366359</td>\n",
              "      <td>1.0</td>\n",
              "      <td>1.571873</td>\n",
              "    </tr>\n",
              "    <tr>\n",
              "      <th>8</th>\n",
              "      <td>406.741911</td>\n",
              "      <td>12.578882</td>\n",
              "      <td>2.0</td>\n",
              "      <td>2.290712</td>\n",
              "    </tr>\n",
              "    <tr>\n",
              "      <th>9</th>\n",
              "      <td>2751.238767</td>\n",
              "      <td>3795.668294</td>\n",
              "      <td>2.0</td>\n",
              "      <td>2.351830</td>\n",
              "    </tr>\n",
              "    <tr>\n",
              "      <th>10</th>\n",
              "      <td>1559.014398</td>\n",
              "      <td>97.082241</td>\n",
              "      <td>4.0</td>\n",
              "      <td>1.607335</td>\n",
              "    </tr>\n",
              "    <tr>\n",
              "      <th>11</th>\n",
              "      <td>3504.583742</td>\n",
              "      <td>12133.187601</td>\n",
              "      <td>1.0</td>\n",
              "      <td>2.377123</td>\n",
              "    </tr>\n",
              "    <tr>\n",
              "      <th>12</th>\n",
              "      <td>2757.939182</td>\n",
              "      <td>1484.921141</td>\n",
              "      <td>1.0</td>\n",
              "      <td>1.465070</td>\n",
              "    </tr>\n",
              "    <tr>\n",
              "      <th>13</th>\n",
              "      <td>-24.906533</td>\n",
              "      <td>4.517559</td>\n",
              "      <td>10.0</td>\n",
              "      <td>2.183741</td>\n",
              "    </tr>\n",
              "    <tr>\n",
              "      <th>14</th>\n",
              "      <td>-486.459054</td>\n",
              "      <td>3.380633</td>\n",
              "      <td>1.0</td>\n",
              "      <td>2.357848</td>\n",
              "    </tr>\n",
              "    <tr>\n",
              "      <th>15</th>\n",
              "      <td>-1263.917887</td>\n",
              "      <td>1.438361</td>\n",
              "      <td>1.0</td>\n",
              "      <td>2.137977</td>\n",
              "    </tr>\n",
              "    <tr>\n",
              "      <th>16</th>\n",
              "      <td>2886.136286</td>\n",
              "      <td>1331.634175</td>\n",
              "      <td>2.0</td>\n",
              "      <td>1.659177</td>\n",
              "    </tr>\n",
              "    <tr>\n",
              "      <th>17</th>\n",
              "      <td>252.587492</td>\n",
              "      <td>8.817704</td>\n",
              "      <td>5.0</td>\n",
              "      <td>2.166040</td>\n",
              "    </tr>\n",
              "    <tr>\n",
              "      <th>18</th>\n",
              "      <td>2074.354545</td>\n",
              "      <td>530.477061</td>\n",
              "      <td>5.0</td>\n",
              "      <td>1.106352</td>\n",
              "    </tr>\n",
              "    <tr>\n",
              "      <th>19</th>\n",
              "      <td>3032.617916</td>\n",
              "      <td>2.648121</td>\n",
              "      <td>1.0</td>\n",
              "      <td>1.887892</td>\n",
              "    </tr>\n",
              "    <tr>\n",
              "      <th>20</th>\n",
              "      <td>633.471983</td>\n",
              "      <td>70.912570</td>\n",
              "      <td>9.0</td>\n",
              "      <td>1.789967</td>\n",
              "    </tr>\n",
              "    <tr>\n",
              "      <th>21</th>\n",
              "      <td>2847.924521</td>\n",
              "      <td>401.050744</td>\n",
              "      <td>2.0</td>\n",
              "      <td>1.521125</td>\n",
              "    </tr>\n",
              "    <tr>\n",
              "      <th>22</th>\n",
              "      <td>1891.885966</td>\n",
              "      <td>370.322543</td>\n",
              "      <td>1.0</td>\n",
              "      <td>2.236803</td>\n",
              "    </tr>\n",
              "    <tr>\n",
              "      <th>23</th>\n",
              "      <td>3011.236584</td>\n",
              "      <td>2105.001908</td>\n",
              "      <td>2.0</td>\n",
              "      <td>1.787931</td>\n",
              "    </tr>\n",
              "    <tr>\n",
              "      <th>24</th>\n",
              "      <td>2438.493326</td>\n",
              "      <td>2019.912841</td>\n",
              "      <td>7.0</td>\n",
              "      <td>2.157813</td>\n",
              "    </tr>\n",
              "    <tr>\n",
              "      <th>25</th>\n",
              "      <td>2086.728001</td>\n",
              "      <td>6.669756</td>\n",
              "      <td>11.0</td>\n",
              "      <td>1.203845</td>\n",
              "    </tr>\n",
              "    <tr>\n",
              "      <th>26</th>\n",
              "      <td>177.058060</td>\n",
              "      <td>26.110091</td>\n",
              "      <td>3.0</td>\n",
              "      <td>2.092567</td>\n",
              "    </tr>\n",
              "    <tr>\n",
              "      <th>27</th>\n",
              "      <td>2829.588065</td>\n",
              "      <td>11.050152</td>\n",
              "      <td>3.0</td>\n",
              "      <td>3.322272</td>\n",
              "    </tr>\n",
              "    <tr>\n",
              "      <th>28</th>\n",
              "      <td>3031.468741</td>\n",
              "      <td>7.904542</td>\n",
              "      <td>3.0</td>\n",
              "      <td>1.832845</td>\n",
              "    </tr>\n",
              "    <tr>\n",
              "      <th>29</th>\n",
              "      <td>575.798662</td>\n",
              "      <td>7.298256</td>\n",
              "      <td>1.0</td>\n",
              "      <td>1.889438</td>\n",
              "    </tr>\n",
              "    <tr>\n",
              "      <th>30</th>\n",
              "      <td>2253.783163</td>\n",
              "      <td>21.355084</td>\n",
              "      <td>1.0</td>\n",
              "      <td>1.287370</td>\n",
              "    </tr>\n",
              "    <tr>\n",
              "      <th>31</th>\n",
              "      <td>2375.537721</td>\n",
              "      <td>2954.604476</td>\n",
              "      <td>13227.0</td>\n",
              "      <td>1.195112</td>\n",
              "    </tr>\n",
              "    <tr>\n",
              "      <th>32</th>\n",
              "      <td>645.990545</td>\n",
              "      <td>12.782684</td>\n",
              "      <td>1.0</td>\n",
              "      <td>2.444194</td>\n",
              "    </tr>\n",
              "    <tr>\n",
              "      <th>33</th>\n",
              "      <td>-507.046554</td>\n",
              "      <td>6.013234</td>\n",
              "      <td>2.0</td>\n",
              "      <td>2.295997</td>\n",
              "    </tr>\n",
              "    <tr>\n",
              "      <th>34</th>\n",
              "      <td>-178.282373</td>\n",
              "      <td>111.311248</td>\n",
              "      <td>3.0</td>\n",
              "      <td>2.325823</td>\n",
              "    </tr>\n",
              "    <tr>\n",
              "      <th>35</th>\n",
              "      <td>665.215374</td>\n",
              "      <td>29.678415</td>\n",
              "      <td>2.0</td>\n",
              "      <td>2.758593</td>\n",
              "    </tr>\n",
              "    <tr>\n",
              "      <th>36</th>\n",
              "      <td>3228.300781</td>\n",
              "      <td>9548.033741</td>\n",
              "      <td>13549.0</td>\n",
              "      <td>2.122208</td>\n",
              "    </tr>\n",
              "    <tr>\n",
              "      <th>37</th>\n",
              "      <td>1549.253194</td>\n",
              "      <td>183.242329</td>\n",
              "      <td>44.0</td>\n",
              "      <td>1.300486</td>\n",
              "    </tr>\n",
              "    <tr>\n",
              "      <th>38</th>\n",
              "      <td>926.923916</td>\n",
              "      <td>12.872520</td>\n",
              "      <td>1.0</td>\n",
              "      <td>3.465474</td>\n",
              "    </tr>\n",
              "    <tr>\n",
              "      <th>39</th>\n",
              "      <td>3261.286551</td>\n",
              "      <td>2645.865252</td>\n",
              "      <td>4.0</td>\n",
              "      <td>1.989494</td>\n",
              "    </tr>\n",
              "    <tr>\n",
              "      <th>40</th>\n",
              "      <td>2208.395869</td>\n",
              "      <td>257.454118</td>\n",
              "      <td>5.0</td>\n",
              "      <td>3.347050</td>\n",
              "    </tr>\n",
              "    <tr>\n",
              "      <th>41</th>\n",
              "      <td>-380.802814</td>\n",
              "      <td>153.930450</td>\n",
              "      <td>37.0</td>\n",
              "      <td>4.484610</td>\n",
              "    </tr>\n",
              "    <tr>\n",
              "      <th>42</th>\n",
              "      <td>45.022481</td>\n",
              "      <td>28.868311</td>\n",
              "      <td>1.0</td>\n",
              "      <td>2.164790</td>\n",
              "    </tr>\n",
              "    <tr>\n",
              "      <th>43</th>\n",
              "      <td>116.077697</td>\n",
              "      <td>10.986055</td>\n",
              "      <td>1.0</td>\n",
              "      <td>2.470319</td>\n",
              "    </tr>\n",
              "    <tr>\n",
              "      <th>44</th>\n",
              "      <td>2424.545810</td>\n",
              "      <td>28.588052</td>\n",
              "      <td>1.0</td>\n",
              "      <td>1.261613</td>\n",
              "    </tr>\n",
              "    <tr>\n",
              "      <th>45</th>\n",
              "      <td>890.036438</td>\n",
              "      <td>31.748853</td>\n",
              "      <td>13.0</td>\n",
              "      <td>1.688048</td>\n",
              "    </tr>\n",
              "    <tr>\n",
              "      <th>46</th>\n",
              "      <td>1744.240545</td>\n",
              "      <td>373.215947</td>\n",
              "      <td>1.0</td>\n",
              "      <td>1.408515</td>\n",
              "    </tr>\n",
              "    <tr>\n",
              "      <th>47</th>\n",
              "      <td>-1169.387083</td>\n",
              "      <td>24.107002</td>\n",
              "      <td>26.0</td>\n",
              "      <td>2.474967</td>\n",
              "    </tr>\n",
              "    <tr>\n",
              "      <th>48</th>\n",
              "      <td>1895.797718</td>\n",
              "      <td>16.677204</td>\n",
              "      <td>53.0</td>\n",
              "      <td>4.386167</td>\n",
              "    </tr>\n",
              "    <tr>\n",
              "      <th>49</th>\n",
              "      <td>-478.106235</td>\n",
              "      <td>1.802917</td>\n",
              "      <td>1.0</td>\n",
              "      <td>2.330254</td>\n",
              "    </tr>\n",
              "  </tbody>\n",
              "</table>\n",
              "</div>"
            ],
            "text/plain": [
              "             LR           RFR      DTR       SVR\n",
              "0   3242.214308     83.602848    446.0  2.812948\n",
              "1   2566.708168   2161.929824      4.0  2.451327\n",
              "2    584.107664     67.465012      1.0  1.831213\n",
              "3  -1892.263177    253.253517     13.0  2.174460\n",
              "4   3101.151710      8.679811      9.0  2.372081\n",
              "5    463.638184      2.864989      3.0  1.968012\n",
              "6    718.275420      5.985134      1.0  1.736469\n",
              "7   2896.806600   2329.366359      1.0  1.571873\n",
              "8    406.741911     12.578882      2.0  2.290712\n",
              "9   2751.238767   3795.668294      2.0  2.351830\n",
              "10  1559.014398     97.082241      4.0  1.607335\n",
              "11  3504.583742  12133.187601      1.0  2.377123\n",
              "12  2757.939182   1484.921141      1.0  1.465070\n",
              "13   -24.906533      4.517559     10.0  2.183741\n",
              "14  -486.459054      3.380633      1.0  2.357848\n",
              "15 -1263.917887      1.438361      1.0  2.137977\n",
              "16  2886.136286   1331.634175      2.0  1.659177\n",
              "17   252.587492      8.817704      5.0  2.166040\n",
              "18  2074.354545    530.477061      5.0  1.106352\n",
              "19  3032.617916      2.648121      1.0  1.887892\n",
              "20   633.471983     70.912570      9.0  1.789967\n",
              "21  2847.924521    401.050744      2.0  1.521125\n",
              "22  1891.885966    370.322543      1.0  2.236803\n",
              "23  3011.236584   2105.001908      2.0  1.787931\n",
              "24  2438.493326   2019.912841      7.0  2.157813\n",
              "25  2086.728001      6.669756     11.0  1.203845\n",
              "26   177.058060     26.110091      3.0  2.092567\n",
              "27  2829.588065     11.050152      3.0  3.322272\n",
              "28  3031.468741      7.904542      3.0  1.832845\n",
              "29   575.798662      7.298256      1.0  1.889438\n",
              "30  2253.783163     21.355084      1.0  1.287370\n",
              "31  2375.537721   2954.604476  13227.0  1.195112\n",
              "32   645.990545     12.782684      1.0  2.444194\n",
              "33  -507.046554      6.013234      2.0  2.295997\n",
              "34  -178.282373    111.311248      3.0  2.325823\n",
              "35   665.215374     29.678415      2.0  2.758593\n",
              "36  3228.300781   9548.033741  13549.0  2.122208\n",
              "37  1549.253194    183.242329     44.0  1.300486\n",
              "38   926.923916     12.872520      1.0  3.465474\n",
              "39  3261.286551   2645.865252      4.0  1.989494\n",
              "40  2208.395869    257.454118      5.0  3.347050\n",
              "41  -380.802814    153.930450     37.0  4.484610\n",
              "42    45.022481     28.868311      1.0  2.164790\n",
              "43   116.077697     10.986055      1.0  2.470319\n",
              "44  2424.545810     28.588052      1.0  1.261613\n",
              "45   890.036438     31.748853     13.0  1.688048\n",
              "46  1744.240545    373.215947      1.0  1.408515\n",
              "47 -1169.387083     24.107002     26.0  2.474967\n",
              "48  1895.797718     16.677204     53.0  4.386167\n",
              "49  -478.106235      1.802917      1.0  2.330254"
            ]
          },
          "metadata": {
            "tags": []
          },
          "execution_count": 58
        }
      ]
    },
    {
      "cell_type": "code",
      "metadata": {
        "id": "64xLdlchlhZv"
      },
      "source": [
        "# These are Predictions done by DecissionTreeRegressor.\n",
        "predictions=pd.DataFrame({'The Predictions':predictions3})\n",
        "predictions.to_csv('Predictions.csv')"
      ],
      "execution_count": null,
      "outputs": []
    },
    {
      "cell_type": "code",
      "metadata": {
        "colab": {
          "base_uri": "https://localhost:8080/"
        },
        "id": "YiaD4bk8nlQ6",
        "outputId": "8920c50a-0634-413a-c154-cb0f700d3eee"
      },
      "source": [
        "predictions.mean()"
      ],
      "execution_count": null,
      "outputs": [
        {
          "output_type": "execute_result",
          "data": {
            "text/plain": [
              "The Predictions    1258.754467\n",
              "dtype: float64"
            ]
          },
          "metadata": {
            "tags": []
          },
          "execution_count": 60
        }
      ]
    },
    {
      "cell_type": "code",
      "metadata": {
        "colab": {
          "base_uri": "https://localhost:8080/"
        },
        "id": "kDWJnQtysax3",
        "outputId": "e86348d4-a112-44be-e66a-bdb3fe11530f"
      },
      "source": [
        "predictions.min()"
      ],
      "execution_count": null,
      "outputs": [
        {
          "output_type": "execute_result",
          "data": {
            "text/plain": [
              "The Predictions    1.0\n",
              "dtype: float64"
            ]
          },
          "metadata": {
            "tags": []
          },
          "execution_count": 61
        }
      ]
    },
    {
      "cell_type": "code",
      "metadata": {
        "colab": {
          "base_uri": "https://localhost:8080/"
        },
        "id": "bGzgFChDsfs-",
        "outputId": "e834beee-c6ad-4e70-a1f5-70e792d9df19"
      },
      "source": [
        "predictions.max()"
      ],
      "execution_count": null,
      "outputs": [
        {
          "output_type": "execute_result",
          "data": {
            "text/plain": [
              "The Predictions    991819.0\n",
              "dtype: float64"
            ]
          },
          "metadata": {
            "tags": []
          },
          "execution_count": 62
        }
      ]
    }
  ]
}